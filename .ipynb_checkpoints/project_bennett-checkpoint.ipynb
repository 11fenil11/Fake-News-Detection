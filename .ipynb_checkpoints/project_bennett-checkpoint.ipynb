{
 "cells": [
  {
   "cell_type": "code",
   "execution_count": 1,
   "metadata": {
    "colab": {
     "base_uri": "https://localhost:8080/",
     "height": 120
    },
    "colab_type": "code",
    "id": "Qdgde097gdvS",
    "outputId": "97e220fe-66e2-4a8d-ddc8-f879a91d65af"
   },
   "outputs": [
    {
     "ename": "ModuleNotFoundError",
     "evalue": "No module named 'google.colab'",
     "output_type": "error",
     "traceback": [
      "\u001b[1;31m---------------------------------------------------------------------------\u001b[0m",
      "\u001b[1;31mModuleNotFoundError\u001b[0m                       Traceback (most recent call last)",
      "\u001b[1;32m<ipython-input-1-d5df0069828e>\u001b[0m in \u001b[0;36m<module>\u001b[1;34m\u001b[0m\n\u001b[1;32m----> 1\u001b[1;33m \u001b[1;32mfrom\u001b[0m \u001b[0mgoogle\u001b[0m\u001b[1;33m.\u001b[0m\u001b[0mcolab\u001b[0m \u001b[1;32mimport\u001b[0m \u001b[0mdrive\u001b[0m\u001b[1;33m\u001b[0m\u001b[1;33m\u001b[0m\u001b[0m\n\u001b[0m\u001b[0;32m      2\u001b[0m \u001b[0mdrive\u001b[0m\u001b[1;33m.\u001b[0m\u001b[0mmount\u001b[0m\u001b[1;33m(\u001b[0m\u001b[1;34m'/content/drive'\u001b[0m\u001b[1;33m)\u001b[0m\u001b[1;33m\u001b[0m\u001b[1;33m\u001b[0m\u001b[0m\n",
      "\u001b[1;31mModuleNotFoundError\u001b[0m: No module named 'google.colab'"
     ]
    }
   ],
   "source": [
    "from google.colab import drive\n",
    "drive.mount('/content/drive')"
   ]
  },
  {
   "cell_type": "code",
   "execution_count": 0,
   "metadata": {
    "colab": {},
    "colab_type": "code",
    "id": "mo7XeOGhYIDq"
   },
   "outputs": [],
   "source": [
    "#root_path = 'gdrive/My Drive/your_project_folder/'  #change dir to your project folder\n",
    "root_path = '/content/drive/My Drive/Hackathon'\n"
   ]
  },
  {
   "cell_type": "code",
   "execution_count": 0,
   "metadata": {
    "colab": {
     "base_uri": "https://localhost:8080/",
     "height": 357
    },
    "colab_type": "code",
    "id": "a6sDM40HY01j",
    "outputId": "81ac2506-acf1-4c92-f507-13527460f8ff"
   },
   "outputs": [
    {
     "name": "stdout",
     "output_type": "stream",
     "text": [
      "--2019-12-24 04:28:05--  http://nlp.stanford.edu/data/glove.6B.zip\n",
      "Resolving nlp.stanford.edu (nlp.stanford.edu)... 171.64.67.140\n",
      "Connecting to nlp.stanford.edu (nlp.stanford.edu)|171.64.67.140|:80... connected.\n",
      "HTTP request sent, awaiting response... 302 Found\n",
      "Location: https://nlp.stanford.edu/data/glove.6B.zip [following]\n",
      "--2019-12-24 04:28:06--  https://nlp.stanford.edu/data/glove.6B.zip\n",
      "Connecting to nlp.stanford.edu (nlp.stanford.edu)|171.64.67.140|:443... connected.\n",
      "HTTP request sent, awaiting response... 301 Moved Permanently\n",
      "Location: http://downloads.cs.stanford.edu/nlp/data/glove.6B.zip [following]\n",
      "--2019-12-24 04:28:06--  http://downloads.cs.stanford.edu/nlp/data/glove.6B.zip\n",
      "Resolving downloads.cs.stanford.edu (downloads.cs.stanford.edu)... 171.64.64.22\n",
      "Connecting to downloads.cs.stanford.edu (downloads.cs.stanford.edu)|171.64.64.22|:80... connected.\n",
      "HTTP request sent, awaiting response... 200 OK\n",
      "Length: 862182613 (822M) [application/zip]\n",
      "Saving to: ‘glove.6B.zip’\n",
      "\n",
      "glove.6B.zip        100%[===================>] 822.24M  1.98MB/s    in 6m 29s  \n",
      "\n",
      "2019-12-24 04:34:35 (2.11 MB/s) - ‘glove.6B.zip’ saved [862182613/862182613]\n",
      "\n"
     ]
    }
   ],
   "source": [
    "!wget http://nlp.stanford.edu/data/glove.6B.zip"
   ]
  },
  {
   "cell_type": "code",
   "execution_count": 0,
   "metadata": {
    "colab": {
     "base_uri": "https://localhost:8080/",
     "height": 102
    },
    "colab_type": "code",
    "id": "xcAUdTtMbkRI",
    "outputId": "a52975bb-b99c-4ff2-c245-22cac50e9f1a"
   },
   "outputs": [
    {
     "name": "stdout",
     "output_type": "stream",
     "text": [
      "Archive:  glove.6B.zip\n",
      "  inflating: glove.6B.50d.txt        \n",
      "  inflating: glove.6B.100d.txt       \n",
      "  inflating: glove.6B.200d.txt       \n",
      "  inflating: glove.6B.300d.txt       \n"
     ]
    }
   ],
   "source": [
    "!unzip glove*.zip"
   ]
  },
  {
   "cell_type": "code",
   "execution_count": 0,
   "metadata": {
    "colab": {},
    "colab_type": "code",
    "id": "qGuG7NgNY889"
   },
   "outputs": [],
   "source": [
    "# Now just move the glove.6B.100d.txt file directly from local folder to your drive folder from table of content file."
   ]
  },
  {
   "cell_type": "code",
   "execution_count": 2,
   "metadata": {
    "colab": {
     "base_uri": "https://localhost:8080/",
     "height": 629
    },
    "colab_type": "code",
    "id": "8RyGAm75cruN",
    "outputId": "3ccf219d-4ace-4504-dbfc-358873fc6299"
   },
   "outputs": [
    {
     "name": "stderr",
     "output_type": "stream",
     "text": [
      "Using TensorFlow backend.\n"
     ]
    },
    {
     "data": {
      "text/html": [
       "<p style=\"color: red;\">\n",
       "The default version of TensorFlow in Colab will soon switch to TensorFlow 2.x.<br>\n",
       "We recommend you <a href=\"https://www.tensorflow.org/guide/migrate\" target=\"_blank\">upgrade</a> now \n",
       "or ensure your notebook will continue to use TensorFlow 1.x via the <code>%tensorflow_version 1.x</code> magic:\n",
       "<a href=\"https://colab.research.google.com/notebooks/tensorflow_version.ipynb\" target=\"_blank\">more info</a>.</p>\n"
      ],
      "text/plain": [
       "<IPython.core.display.HTML object>"
      ]
     },
     "metadata": {
      "tags": []
     },
     "output_type": "display_data"
    },
    {
     "name": "stdout",
     "output_type": "stream",
     "text": [
      "[name: \"/device:CPU:0\"\n",
      "device_type: \"CPU\"\n",
      "memory_limit: 268435456\n",
      "locality {\n",
      "}\n",
      "incarnation: 10186032227981011991\n",
      ", name: \"/device:XLA_CPU:0\"\n",
      "device_type: \"XLA_CPU\"\n",
      "memory_limit: 17179869184\n",
      "locality {\n",
      "}\n",
      "incarnation: 4301372376794876670\n",
      "physical_device_desc: \"device: XLA_CPU device\"\n",
      ", name: \"/device:XLA_GPU:0\"\n",
      "device_type: \"XLA_GPU\"\n",
      "memory_limit: 17179869184\n",
      "locality {\n",
      "}\n",
      "incarnation: 1230959728684556493\n",
      "physical_device_desc: \"device: XLA_GPU device\"\n",
      ", name: \"/device:GPU:0\"\n",
      "device_type: \"GPU\"\n",
      "memory_limit: 15956161332\n",
      "locality {\n",
      "  bus_id: 1\n",
      "  links {\n",
      "  }\n",
      "}\n",
      "incarnation: 2871042171773516752\n",
      "physical_device_desc: \"device: 0, name: Tesla P100-PCIE-16GB, pci bus id: 0000:00:04.0, compute capability: 6.0\"\n",
      "]\n",
      "[nltk_data] Downloading package stopwords to /root/nltk_data...\n",
      "[nltk_data]   Unzipping corpora/stopwords.zip.\n"
     ]
    }
   ],
   "source": [
    "import keras\n",
    "from tensorflow.python.client import device_lib\n",
    "\n",
    "print(device_lib.list_local_devices())\n",
    "import numpy as np\n",
    "import pandas \n",
    "\n",
    "import pandas as pd\n",
    "from collections import defaultdict\n",
    "import re\n",
    "\n",
    "\n",
    "import sys\n",
    "import os\n",
    "\n",
    "from keras.preprocessing.text import Tokenizer\n",
    "from keras.preprocessing.sequence import pad_sequences\n",
    "from keras.utils.np_utils import to_categorical\n",
    "\n",
    "from keras.layers import Embedding\n",
    "from keras.layers import Dense, Input, Flatten\n",
    "from keras.layers import Conv1D, MaxPooling1D, Embedding, Dropout\n",
    "from keras.models import Model\n",
    "\n",
    "\n",
    "\n",
    "#NlTK\n",
    "\n",
    "from wordcloud import WordCloud,STOPWORDS\n",
    "import re\n",
    "import nltk\n",
    "nltk.download('stopwords')\n",
    "from nltk.corpus import stopwords\n",
    "import matplotlib.pyplot as plt\n",
    "import matplotlib.patches as mpatches\n",
    "\n",
    "\n",
    "#For Model\n",
    "\n",
    "from keras.layers import Input, Dense, Embedding, Conv2D, MaxPool2D\n",
    "from keras.layers import Reshape, Flatten, Dropout, Concatenate\n",
    "from keras.callbacks import ModelCheckpoint\n",
    "from keras.optimizers import Adam\n",
    "from keras.models import Model\n",
    "from sklearn.model_selection import train_test_split\n",
    "\n",
    "# Train Test Split\n",
    "from sklearn.model_selection import train_test_split\n",
    "\n",
    "MAX_SEQUENCE_LENGTH = 1000\n",
    "MAX_NB_WORDS = 200000\n",
    "EMBEDDING_DIM = 100\n",
    "VALIDATION_SPLIT = 0.2"
   ]
  },
  {
   "cell_type": "code",
   "execution_count": 3,
   "metadata": {
    "colab": {
     "base_uri": "https://localhost:8080/",
     "height": 601
    },
    "colab_type": "code",
    "id": "4MQnoxaDdfsj",
    "outputId": "36587910-671b-4dba-fa1e-22d35019750e"
   },
   "outputs": [
    {
     "data": {
      "text/html": [
       "<div>\n",
       "<style scoped>\n",
       "    .dataframe tbody tr th:only-of-type {\n",
       "        vertical-align: middle;\n",
       "    }\n",
       "\n",
       "    .dataframe tbody tr th {\n",
       "        vertical-align: top;\n",
       "    }\n",
       "\n",
       "    .dataframe thead th {\n",
       "        text-align: right;\n",
       "    }\n",
       "</style>\n",
       "<table border=\"1\" class=\"dataframe\">\n",
       "  <thead>\n",
       "    <tr style=\"text-align: right;\">\n",
       "      <th></th>\n",
       "      <th>Unnamed: 0</th>\n",
       "      <th>Unnamed: 0.1</th>\n",
       "      <th>id</th>\n",
       "      <th>author</th>\n",
       "      <th>created_utc</th>\n",
       "      <th>domain</th>\n",
       "      <th>hasImage</th>\n",
       "      <th>num_comments</th>\n",
       "      <th>score</th>\n",
       "      <th>title</th>\n",
       "      <th>upvote_ratio</th>\n",
       "      <th>subreddit</th>\n",
       "      <th>clean_title</th>\n",
       "      <th>2_way_label</th>\n",
       "      <th>3_way_label</th>\n",
       "      <th>5_way_label</th>\n",
       "      <th>image_url</th>\n",
       "    </tr>\n",
       "  </thead>\n",
       "  <tbody>\n",
       "    <tr>\n",
       "      <th>0</th>\n",
       "      <td>0</td>\n",
       "      <td>0</td>\n",
       "      <td>2v5szv</td>\n",
       "      <td>NaN</td>\n",
       "      <td>1.423368e+09</td>\n",
       "      <td>news8000.com</td>\n",
       "      <td>False</td>\n",
       "      <td>1</td>\n",
       "      <td>6</td>\n",
       "      <td>Man tries to stop armed robbery, charged with ...</td>\n",
       "      <td>0.72</td>\n",
       "      <td>nottheonion</td>\n",
       "      <td>man tries to stop armed robbery charged with f...</td>\n",
       "      <td>1</td>\n",
       "      <td>0</td>\n",
       "      <td>0</td>\n",
       "      <td>NaN</td>\n",
       "    </tr>\n",
       "    <tr>\n",
       "      <th>1</th>\n",
       "      <td>1</td>\n",
       "      <td>1</td>\n",
       "      <td>c0ex4g</td>\n",
       "      <td>wastebinaccount</td>\n",
       "      <td>1.560481e+09</td>\n",
       "      <td>i.redd.it</td>\n",
       "      <td>False</td>\n",
       "      <td>8</td>\n",
       "      <td>7</td>\n",
       "      <td>Cylas - Old Memories</td>\n",
       "      <td>0.89</td>\n",
       "      <td>fakealbumcovers</td>\n",
       "      <td>cylas old memories</td>\n",
       "      <td>0</td>\n",
       "      <td>2</td>\n",
       "      <td>1</td>\n",
       "      <td>NaN</td>\n",
       "    </tr>\n",
       "    <tr>\n",
       "      <th>2</th>\n",
       "      <td>2</td>\n",
       "      <td>2</td>\n",
       "      <td>13teri</td>\n",
       "      <td>NaN</td>\n",
       "      <td>1.353946e+09</td>\n",
       "      <td>reason.com</td>\n",
       "      <td>False</td>\n",
       "      <td>3</td>\n",
       "      <td>38</td>\n",
       "      <td>President Obama Briefly Worried That His Unacc...</td>\n",
       "      <td>0.73</td>\n",
       "      <td>nottheonion</td>\n",
       "      <td>president obama briefly worried that his unacc...</td>\n",
       "      <td>1</td>\n",
       "      <td>0</td>\n",
       "      <td>0</td>\n",
       "      <td>NaN</td>\n",
       "    </tr>\n",
       "    <tr>\n",
       "      <th>3</th>\n",
       "      <td>3</td>\n",
       "      <td>3</td>\n",
       "      <td>ck6e99</td>\n",
       "      <td>dustyd22</td>\n",
       "      <td>1.564567e+09</td>\n",
       "      <td>i.redd.it</td>\n",
       "      <td>False</td>\n",
       "      <td>224</td>\n",
       "      <td>22344</td>\n",
       "      <td>Every morning I wake up to some asshole Brachi...</td>\n",
       "      <td>0.85</td>\n",
       "      <td>confusing_perspective</td>\n",
       "      <td>every morning i wake up to some asshole brachi...</td>\n",
       "      <td>0</td>\n",
       "      <td>2</td>\n",
       "      <td>2</td>\n",
       "      <td>NaN</td>\n",
       "    </tr>\n",
       "    <tr>\n",
       "      <th>4</th>\n",
       "      <td>4</td>\n",
       "      <td>4</td>\n",
       "      <td>93swo6</td>\n",
       "      <td>thedylmeister</td>\n",
       "      <td>1.533157e+09</td>\n",
       "      <td>i.redd.it</td>\n",
       "      <td>True</td>\n",
       "      <td>0</td>\n",
       "      <td>2</td>\n",
       "      <td>O-Vac, protector of the cosmic dust temple</td>\n",
       "      <td>0.76</td>\n",
       "      <td>pareidolia</td>\n",
       "      <td>ovac protector of the cosmic dust temple</td>\n",
       "      <td>0</td>\n",
       "      <td>2</td>\n",
       "      <td>2</td>\n",
       "      <td>https://preview.redd.it/zkz1pt6tojd11.jpg?widt...</td>\n",
       "    </tr>\n",
       "  </tbody>\n",
       "</table>\n",
       "</div>"
      ],
      "text/plain": [
       "   Unnamed: 0  ...                                          image_url\n",
       "0           0  ...                                                NaN\n",
       "1           1  ...                                                NaN\n",
       "2           2  ...                                                NaN\n",
       "3           3  ...                                                NaN\n",
       "4           4  ...  https://preview.redd.it/zkz1pt6tojd11.jpg?widt...\n",
       "\n",
       "[5 rows x 17 columns]"
      ]
     },
     "execution_count": 3,
     "metadata": {
      "tags": []
     },
     "output_type": "execute_result"
    }
   ],
   "source": [
    "df = pd.read_csv(\"/content/drive/My Drive/Hackathon/train.tsv\",sep='\\t') # Here train.tsv is the same dataset just upload it to your respective google drive and copy the path here\n",
    "df.head()"
   ]
  },
  {
   "cell_type": "code",
   "execution_count": 4,
   "metadata": {
    "colab": {
     "base_uri": "https://localhost:8080/",
     "height": 197
    },
    "colab_type": "code",
    "id": "YTkUdKnMdkbY",
    "outputId": "a6737891-80b0-4431-fd3b-5c656ffa9b43"
   },
   "outputs": [
    {
     "data": {
      "text/html": [
       "<div>\n",
       "<style scoped>\n",
       "    .dataframe tbody tr th:only-of-type {\n",
       "        vertical-align: middle;\n",
       "    }\n",
       "\n",
       "    .dataframe tbody tr th {\n",
       "        vertical-align: top;\n",
       "    }\n",
       "\n",
       "    .dataframe thead th {\n",
       "        text-align: right;\n",
       "    }\n",
       "</style>\n",
       "<table border=\"1\" class=\"dataframe\">\n",
       "  <thead>\n",
       "    <tr style=\"text-align: right;\">\n",
       "      <th></th>\n",
       "      <th>num_comments</th>\n",
       "      <th>score</th>\n",
       "      <th>upvote_ratio</th>\n",
       "      <th>clean_title</th>\n",
       "      <th>2_way_label</th>\n",
       "    </tr>\n",
       "  </thead>\n",
       "  <tbody>\n",
       "    <tr>\n",
       "      <th>0</th>\n",
       "      <td>1</td>\n",
       "      <td>6</td>\n",
       "      <td>0.72</td>\n",
       "      <td>man tries to stop armed robbery charged with f...</td>\n",
       "      <td>1</td>\n",
       "    </tr>\n",
       "    <tr>\n",
       "      <th>1</th>\n",
       "      <td>8</td>\n",
       "      <td>7</td>\n",
       "      <td>0.89</td>\n",
       "      <td>cylas old memories</td>\n",
       "      <td>0</td>\n",
       "    </tr>\n",
       "    <tr>\n",
       "      <th>2</th>\n",
       "      <td>3</td>\n",
       "      <td>38</td>\n",
       "      <td>0.73</td>\n",
       "      <td>president obama briefly worried that his unacc...</td>\n",
       "      <td>1</td>\n",
       "    </tr>\n",
       "    <tr>\n",
       "      <th>3</th>\n",
       "      <td>224</td>\n",
       "      <td>22344</td>\n",
       "      <td>0.85</td>\n",
       "      <td>every morning i wake up to some asshole brachi...</td>\n",
       "      <td>0</td>\n",
       "    </tr>\n",
       "    <tr>\n",
       "      <th>4</th>\n",
       "      <td>0</td>\n",
       "      <td>2</td>\n",
       "      <td>0.76</td>\n",
       "      <td>ovac protector of the cosmic dust temple</td>\n",
       "      <td>0</td>\n",
       "    </tr>\n",
       "  </tbody>\n",
       "</table>\n",
       "</div>"
      ],
      "text/plain": [
       "   num_comments  ...  2_way_label\n",
       "0             1  ...            1\n",
       "1             8  ...            0\n",
       "2             3  ...            1\n",
       "3           224  ...            0\n",
       "4             0  ...            0\n",
       "\n",
       "[5 rows x 5 columns]"
      ]
     },
     "execution_count": 4,
     "metadata": {
      "tags": []
     },
     "output_type": "execute_result"
    }
   ],
   "source": [
    "df1=df.iloc[:,[7,8,10,12,13]]#['num_comments','score','upvote_ratio','clean_title','2_way_label'])\n",
    "df1=df1.iloc[:,:]\n",
    "df1.head()"
   ]
  },
  {
   "cell_type": "code",
   "execution_count": 5,
   "metadata": {
    "colab": {
     "base_uri": "https://localhost:8080/",
     "height": 117
    },
    "colab_type": "code",
    "id": "n88icFKidpAI",
    "outputId": "a120c6a7-4b97-4523-d366-9e5ddcd3b645"
   },
   "outputs": [
    {
     "name": "stderr",
     "output_type": "stream",
     "text": [
      "/usr/local/lib/python3.6/dist-packages/pandas/core/indexing.py:494: SettingWithCopyWarning: \n",
      "A value is trying to be set on a copy of a slice from a DataFrame.\n",
      "Try using .loc[row_indexer,col_indexer] = value instead\n",
      "\n",
      "See the caveats in the documentation: http://pandas.pydata.org/pandas-docs/stable/user_guide/indexing.html#returning-a-view-versus-a-copy\n",
      "  self.obj[item] = s\n"
     ]
    }
   ],
   "source": [
    "df1.iloc[:,:-1]=df1.iloc[:,:-1].replace(to_replace = np.nan, value ='') "
   ]
  },
  {
   "cell_type": "code",
   "execution_count": 6,
   "metadata": {
    "colab": {
     "base_uri": "https://localhost:8080/",
     "height": 117
    },
    "colab_type": "code",
    "id": "PjAqMWpxdt-9",
    "outputId": "8db52759-9ed3-4dc3-b5af-d44b42e0a4f2"
   },
   "outputs": [
    {
     "name": "stderr",
     "output_type": "stream",
     "text": [
      "/usr/local/lib/python3.6/dist-packages/pandas/core/indexing.py:494: SettingWithCopyWarning: \n",
      "A value is trying to be set on a copy of a slice from a DataFrame.\n",
      "Try using .loc[row_indexer,col_indexer] = value instead\n",
      "\n",
      "See the caveats in the documentation: http://pandas.pydata.org/pandas-docs/stable/user_guide/indexing.html#returning-a-view-versus-a-copy\n",
      "  self.obj[item] = s\n"
     ]
    }
   ],
   "source": [
    "df1.iloc[:,-1]=df1.iloc[:,-1].replace(to_replace = np.nan, value =0) "
   ]
  },
  {
   "cell_type": "code",
   "execution_count": 0,
   "metadata": {
    "colab": {},
    "colab_type": "code",
    "id": "yLQRlnia3nV8"
   },
   "outputs": [],
   "source": [
    "texts = []\n",
    "labels = []\n",
    "\n",
    "for i in range(len(list(df1.clean_title))):\n",
    "    text = str(df1['clean_title'][i])\n",
    "    texts.append(text)\n",
    "    labels.append(df1['2_way_label'][i])\n",
    "    \n",
    "tokenizer = Tokenizer(num_words=MAX_NB_WORDS)\n",
    "tokenizer.fit_on_texts(texts)\n",
    "sequences = tokenizer.texts_to_sequences(texts)\n",
    "word_index = tokenizer.word_index\n",
    "\n",
    "#print('Found %s unique tokens.' % len(word_index))"
   ]
  },
  {
   "cell_type": "code",
   "execution_count": 8,
   "metadata": {
    "colab": {
     "base_uri": "https://localhost:8080/",
     "height": 50
    },
    "colab_type": "code",
    "id": "keZJP4qQ8hXB",
    "outputId": "7c522893-2ccf-4f4f-adbf-c7a34b0cc633"
   },
   "outputs": [
    {
     "name": "stdout",
     "output_type": "stream",
     "text": [
      "Shape of data tensor: (669564, 1000)\n",
      "Shape of label tensor: (669564, 2)\n"
     ]
    }
   ],
   "source": [
    "# Pad input sequences\n",
    "data = pad_sequences(sequences, maxlen=MAX_SEQUENCE_LENGTH)\n",
    "labels = to_categorical(np.asarray(labels,dtype='int32'),num_classes = 2)\n",
    "print('Shape of data tensor:', data.shape)\n",
    "print('Shape of label tensor:', labels.shape)"
   ]
  },
  {
   "cell_type": "code",
   "execution_count": 0,
   "metadata": {
    "colab": {},
    "colab_type": "code",
    "id": "Hxwv2FYj8k-F"
   },
   "outputs": [],
   "source": [
    "from keras.models import Sequential\n",
    "from keras.layers.convolutional import Conv3D\n",
    "from keras.layers.convolutional_recurrent import ConvLSTM2D\n",
    "from keras.layers.normalization import BatchNormalization\n",
    "import numpy as np\n",
    "from matplotlib import pyplot as plt\n",
    "from keras.layers import Dense, Embedding, LSTM, GRU"
   ]
  },
  {
   "cell_type": "code",
   "execution_count": 0,
   "metadata": {
    "colab": {},
    "colab_type": "code",
    "id": "u1J241WhNPaB"
   },
   "outputs": [],
   "source": [
    "GLOVE_DIR = \"\" \n",
    "embeddings_index = {}\n",
    "f = open(os.path.join(GLOVE_DIR, '/content/drive/My Drive/glove.6B.100d.txt'), encoding=\"utf8\") #The file that you had downloaded and moved from local session to drive. "
   ]
  },
  {
   "cell_type": "code",
   "execution_count": 11,
   "metadata": {
    "colab": {
     "base_uri": "https://localhost:8080/",
     "height": 87
    },
    "colab_type": "code",
    "id": "CSbzIUh-8o_d",
    "outputId": "6848f3aa-8776-4800-d771-e2cb73c95826"
   },
   "outputs": [
    {
     "name": "stdout",
     "output_type": "stream",
     "text": [
      "Total 400000 word vectors in Glove.\n",
      "WARNING:tensorflow:From /usr/local/lib/python3.6/dist-packages/keras/backend/tensorflow_backend.py:66: The name tf.get_default_graph is deprecated. Please use tf.compat.v1.get_default_graph instead.\n",
      "\n"
     ]
    }
   ],
   "source": [
    "for line in f:\n",
    "    values = line.split()\n",
    "    #print(values[1:])\n",
    "    word = values[0]\n",
    "    coefs = np.asarray(values[1:], dtype='float32')\n",
    "    embeddings_index[word] = coefs\n",
    "f.close()\n",
    "\n",
    "print('Total %s word vectors in Glove.' % len(embeddings_index))\n",
    "\n",
    "embedding_matrix = np.random.random((len(word_index) + 1, EMBEDDING_DIM))\n",
    "for word, i in word_index.items():\n",
    "    embedding_vector = embeddings_index.get(word)\n",
    "    if embedding_vector is not None:\n",
    "        # words not found in embedding index will be all-zeros.\n",
    "        embedding_matrix[i] = embedding_vector\n",
    "        \n",
    "embedding_layer = Embedding(len(word_index) + 1,\n",
    "                            EMBEDDING_DIM,\n",
    "                            weights=[embedding_matrix],\n",
    "                            input_length=MAX_SEQUENCE_LENGTH)"
   ]
  },
  {
   "cell_type": "code",
   "execution_count": 0,
   "metadata": {
    "colab": {},
    "colab_type": "code",
    "id": "I_-lfRXP9C0H"
   },
   "outputs": [],
   "source": [
    "from keras.callbacks import ModelCheckpoint\n",
    "from keras import layers\n",
    "\n",
    "embedding_vecor_length = 32\n",
    "modell = Sequential()\n",
    "modell.add(embedding_layer)\n",
    "modell.add(Dropout(0.2))\n",
    "modell.add(Conv1D(filters=32, kernel_size=3, padding='same', activation='relu'))\n",
    "modell.add(MaxPooling1D(pool_size=2))\n",
    "modell.add(Conv1D(filters=64, kernel_size=4, padding='same', activation='sigmoid'))\n",
    "modell.add(MaxPooling1D(pool_size=2))\n",
    "modell.add(Conv1D(filters=128, kernel_size=5, padding='same', activation='relu'))\n",
    "modell.add(MaxPooling1D(pool_size=2))\n",
    "modell.add(LSTM(100,activation='relu',recurrent_activation='sigmoid',dropout=0.2, recurrent_dropout=0.2))\n",
    "modell.add(BatchNormalization())\n",
    "modell.add(Dense(1024, activation='relu'))\n",
    "modell.add(layers.Dropout(0.2))\n",
    "modell.add(Dense(512,  activation='relu'))\n",
    "modell.add(layers.Dropout(0.2))\n",
    "modell.add(Dense(256, activation='relu'))\n",
    "modell.add(layers.Dropout(0.2))\n",
    "modell.add(Dense(128, activation='relu'))\n",
    "modell.add(layers.Dropout(0.2))\n",
    "modell.add(Dense(64, activation='relu'))\n",
    "modell.add(layers.Dropout(0.2))\n",
    "modell.add(Dense(2, activation='softmax'))\n",
    "\n",
    "modell.compile(loss='binary_crossentropy', optimizer='adam', metrics=['accuracy'])\n",
    "print(modell.summary())\n",
    "\n",
    "filepath = \"/content/hackerthon1/model.h5\" # Location to save yor model\n",
    "checkpoint = ModelCheckpoint(filepath, monitor='loss', verbose=1, save_best_only=True, mode='min')\n",
    "callbacks_list = [checkpoint]\n",
    "modell.fit(data, labels,validation_split=0.05, epochs=9, batch_size=1024 , callbacks=callbacks_list)"
   ]
  },
  {
   "cell_type": "code",
   "execution_count": 0,
   "metadata": {
    "colab": {},
    "colab_type": "code",
    "id": "pnLr53A1Nk6D"
   },
   "outputs": [],
   "source": [
    "import os\n",
    "\n",
    "base_dir = 'hackerthon1'\n",
    "os.mkdir(base_dir)"
   ]
  },
  {
   "cell_type": "code",
   "execution_count": 0,
   "metadata": {
    "colab": {},
    "colab_type": "code",
    "id": "hePF2dkwzEZ3"
   },
   "outputs": [],
   "source": [
    "base_dir = 'hackerthon'\n",
    "os.mkdir(base_dir)"
   ]
  },
  {
   "cell_type": "code",
   "execution_count": 0,
   "metadata": {
    "colab": {
     "base_uri": "https://localhost:8080/",
     "height": 683
    },
    "colab_type": "code",
    "id": "dSv7gxum3L53",
    "outputId": "420b395f-24fa-40e8-ff08-8d69351b2d07"
   },
   "outputs": [
    {
     "name": "stdout",
     "output_type": "stream",
     "text": [
      "Train on 636085 samples, validate on 33479 samples\n",
      "Epoch 1/9\n",
      "636085/636085 [==============================] - 245s 386us/step - loss: 0.2404 - acc: 0.8991 - val_loss: 0.3768 - val_acc: 0.8351\n",
      "\n",
      "Epoch 00001: loss improved from inf to 0.24035, saving model to /content/hackerthon/hackerthon1.h5\n",
      "Epoch 2/9\n",
      "636085/636085 [==============================] - 242s 380us/step - loss: 0.2301 - acc: 0.9033 - val_loss: 0.3854 - val_acc: 0.8373\n",
      "\n",
      "Epoch 00002: loss improved from 0.24035 to 0.23010, saving model to /content/hackerthon/hackerthon1.h5\n",
      "Epoch 3/9\n",
      "636085/636085 [==============================] - 240s 377us/step - loss: 0.2214 - acc: 0.9078 - val_loss: 0.3849 - val_acc: 0.8342\n",
      "\n",
      "Epoch 00003: loss improved from 0.23010 to 0.22140, saving model to /content/hackerthon/hackerthon1.h5\n",
      "Epoch 4/9\n",
      "636085/636085 [==============================] - 243s 382us/step - loss: 0.2131 - acc: 0.9111 - val_loss: 0.3867 - val_acc: 0.8360\n",
      "\n",
      "Epoch 00004: loss improved from 0.22140 to 0.21307, saving model to /content/hackerthon/hackerthon1.h5\n",
      "Epoch 5/9\n",
      "636085/636085 [==============================] - 243s 382us/step - loss: 0.2048 - acc: 0.9148 - val_loss: 0.3918 - val_acc: 0.8410\n",
      "\n",
      "Epoch 00005: loss improved from 0.21307 to 0.20480, saving model to /content/hackerthon/hackerthon1.h5\n",
      "Epoch 6/9\n",
      "636085/636085 [==============================] - 243s 382us/step - loss: 0.1975 - acc: 0.9179 - val_loss: 0.3992 - val_acc: 0.8380\n",
      "\n",
      "Epoch 00006: loss improved from 0.20480 to 0.19745, saving model to /content/hackerthon/hackerthon1.h5\n",
      "Epoch 7/9\n",
      "636085/636085 [==============================] - 242s 380us/step - loss: 0.1907 - acc: 0.9209 - val_loss: 0.4044 - val_acc: 0.8353\n",
      "\n",
      "Epoch 00007: loss improved from 0.19745 to 0.19072, saving model to /content/hackerthon/hackerthon1.h5\n",
      "Epoch 8/9\n",
      "636085/636085 [==============================] - 252s 397us/step - loss: 0.1841 - acc: 0.9238 - val_loss: 0.4259 - val_acc: 0.8384\n",
      "\n",
      "Epoch 00008: loss improved from 0.19072 to 0.18409, saving model to /content/hackerthon/hackerthon1.h5\n",
      "Epoch 9/9\n",
      "636085/636085 [==============================] - 248s 389us/step - loss: 0.1781 - acc: 0.9263 - val_loss: 0.4223 - val_acc: 0.8384\n",
      "\n",
      "Epoch 00009: loss improved from 0.18409 to 0.17806, saving model to /content/hackerthon/hackerthon1.h5\n"
     ]
    },
    {
     "data": {
      "text/plain": [
       "<keras.callbacks.History at 0x7f1888ed4400>"
      ]
     },
     "execution_count": 31,
     "metadata": {
      "tags": []
     },
     "output_type": "execute_result"
    }
   ],
   "source": [
    "from keras.models import load_model\n",
    "filepath = \"/content/hackerthon1/model.h5\"  # Location to get yor model\n",
    "filepath1 = \"/content/hackerthon/hackerthon1.h5\" # Location to save yor model\n",
    "checkpoint = ModelCheckpoint(filepath1, monitor='loss', verbose=1, save_best_only=True, mode='min')\n",
    "\n",
    "new_model = load_model(filepath)\n",
    "#checkpoint = ModelCheckpoint(filepath, monitor='loss', verbose=1, save_best_only=True, mode='min')\n",
    "callbacks_list = [checkpoint]\n",
    "#new_model.fit(x_train, y_train, epochs=5, batch_size=50, callbacks=callbacks_list)\n",
    "\n",
    "\n",
    "new_model.fit(data, labels,validation_split=0.05, epochs=9, batch_size=1024 , callbacks=callbacks_list)"
   ]
  },
  {
   "cell_type": "code",
   "execution_count": 0,
   "metadata": {
    "colab": {
     "base_uri": "https://localhost:8080/",
     "height": 1000
    },
    "colab_type": "code",
    "id": "trpRiKjC8Uvv",
    "outputId": "f74a8708-f156-407d-d665-d0e98744bdd6"
   },
   "outputs": [
    {
     "data": {
      "image/png": "[encoded data removed]",
      "text/plain": [
       "<IPython.core.display.Image object>"
      ]
     },
     "execution_count": 37,
     "metadata": {
      "tags": []
     },
     "output_type": "execute_result"
    }
   ],
   "source": [
    "from keras.utils import plot_model\n",
    "plot_model(new_model, to_file='new_model.png')"
   ]
  },
  {
   "cell_type": "code",
   "execution_count": 30,
   "metadata": {
    "colab": {
     "base_uri": "https://localhost:8080/",
     "height": 650
    },
    "colab_type": "code",
    "id": "BVUwvKoGGQjX",
    "outputId": "e5a72ba1-660c-42ad-e379-2d03a0ba1e82"
   },
   "outputs": [
    {
     "name": "stdout",
     "output_type": "stream",
     "text": [
      "Traning Model...\n",
      "Train on 636085 samples, validate on 33479 samples\n",
      "Epoch 1/9\n",
      "636085/636085 [==============================] - 992s 2ms/step - loss: 0.5987 - acc: 0.7056 - val_loss: 0.4737 - val_acc: 0.7725\n",
      "\n",
      "Epoch 00001: loss improved from inf to 0.59875, saving model to /content/drive/My Drive/Hackathon/modelFakeNewsCNN.h5\n",
      "Epoch 2/9\n",
      "636085/636085 [==============================] - 992s 2ms/step - loss: 0.4832 - acc: 0.7683 - val_loss: 0.4436 - val_acc: 0.7938\n",
      "\n",
      "Epoch 00002: loss improved from 0.59875 to 0.48321, saving model to /content/drive/My Drive/Hackathon/modelFakeNewsCNN.h5\n",
      "Epoch 3/9\n",
      "636085/636085 [==============================] - 992s 2ms/step - loss: 0.4490 - acc: 0.7892 - val_loss: 0.4240 - val_acc: 0.8051\n",
      "\n",
      "Epoch 00003: loss improved from 0.48321 to 0.44903, saving model to /content/drive/My Drive/Hackathon/modelFakeNewsCNN.h5\n",
      "Epoch 4/9\n",
      "636085/636085 [==============================] - 992s 2ms/step - loss: 0.4271 - acc: 0.8022 - val_loss: 0.4099 - val_acc: 0.8129\n",
      "\n",
      "Epoch 00004: loss improved from 0.44903 to 0.42712, saving model to /content/drive/My Drive/Hackathon/modelFakeNewsCNN.h5\n",
      "Epoch 5/9\n",
      "636085/636085 [==============================] - 992s 2ms/step - loss: 0.4101 - acc: 0.8121 - val_loss: 0.3995 - val_acc: 0.8194\n",
      "\n",
      "Epoch 00005: loss improved from 0.42712 to 0.41005, saving model to /content/drive/My Drive/Hackathon/modelFakeNewsCNN.h5\n",
      "Epoch 6/9\n",
      "636085/636085 [==============================] - 992s 2ms/step - loss: 0.3950 - acc: 0.8211 - val_loss: 0.3915 - val_acc: 0.8230\n",
      "\n",
      "Epoch 00006: loss improved from 0.41005 to 0.39497, saving model to /content/drive/My Drive/Hackathon/modelFakeNewsCNN.h5\n",
      "Epoch 7/9\n",
      "636085/636085 [==============================] - 992s 2ms/step - loss: 0.3824 - acc: 0.8280 - val_loss: 0.3866 - val_acc: 0.8268\n",
      "\n",
      "Epoch 00007: loss improved from 0.39497 to 0.38245, saving model to /content/drive/My Drive/Hackathon/modelFakeNewsCNN.h5\n",
      "Epoch 8/9\n",
      "636085/636085 [==============================] - 992s 2ms/step - loss: 0.3706 - acc: 0.8349 - val_loss: 0.3803 - val_acc: 0.8300\n",
      "\n",
      "Epoch 00008: loss improved from 0.38245 to 0.37061, saving model to /content/drive/My Drive/Hackathon/modelFakeNewsCNN.h5\n",
      "Epoch 9/9\n",
      "636085/636085 [==============================] - 992s 2ms/step - loss: 0.3596 - acc: 0.8405 - val_loss: 0.3759 - val_acc: 0.8325\n",
      "\n",
      "Epoch 00009: loss improved from 0.37061 to 0.35957, saving model to /content/drive/My Drive/Hackathon/modelFakeNewsCNN.h5\n"
     ]
    }
   ],
   "source": [
    "from keras.layers import Input, Dense, Embedding, Conv2D, MaxPool2D\n",
    "from keras.layers import Reshape, Flatten, Dropout, Concatenate\n",
    "from keras.callbacks import ModelCheckpoint\n",
    "from keras.optimizers import Adam\n",
    "from keras.models import Model\n",
    "from sklearn.model_selection import train_test_split\n",
    "\n",
    "\n",
    "\n",
    "sequence_length = 1000\n",
    "vocabulary_size = 200000\n",
    "embedding_dim = 100\n",
    "filter_sizes = [3,4,5]\n",
    "num_filters = 512\n",
    "drop = 0.5\n",
    "\n",
    "epochs = 4\n",
    "batch_size = 30\n",
    "\n",
    "# this returns a tensor\n",
    "#print(\"Creating Model...\")\n",
    "inputs = Input(shape=(sequence_length,), dtype='int32')\n",
    "#embedding = Embedding(input_dim=vocabulary_size, output_dim=embedding_dim, input_length=sequence_length)(inputs)\n",
    "reshape = Reshape((sequence_length,embedding_dim,1))(embedding_layer(inputs))\n",
    "conv_0 = Conv2D(num_filters, kernel_size=(filter_sizes[0], embedding_dim), padding='valid', kernel_initializer='normal', activation='relu')(reshape)\n",
    "conv_1 = Conv2D(num_filters, kernel_size=(filter_sizes[1], embedding_dim), padding='valid', kernel_initializer='normal', activation='relu')(reshape)\n",
    "conv_2 = Conv2D(num_filters, kernel_size=(filter_sizes[2], embedding_dim), padding='valid', kernel_initializer='normal', activation='relu')(reshape)\n",
    "\n",
    "maxpool_0 = MaxPool2D(pool_size=(sequence_length - filter_sizes[0] + 1, 1), strides=(1,1), padding='valid')(conv_0)\n",
    "maxpool_1 = MaxPool2D(pool_size=(sequence_length - filter_sizes[1] + 1, 1), strides=(1,1), padding='valid')(conv_1)\n",
    "maxpool_2 = MaxPool2D(pool_size=(sequence_length - filter_sizes[2] + 1, 1), strides=(1,1), padding='valid')(conv_2)\n",
    "\n",
    "concatenated_tensor = Concatenate(axis=1)([maxpool_0, maxpool_1, maxpool_2])\n",
    "flatten = Flatten()(concatenated_tensor)\n",
    "dropout = Dropout(drop)(flatten)\n",
    "output = Dense(units=2, activation='softmax')(dropout)\n",
    "\n",
    "# this creates a model that includes\n",
    "model = Model(inputs=inputs, outputs=output)\n",
    "\n",
    "\n",
    "\n",
    "filepath = \"/content/drive/My Drive/Hackathon/modelFakeNewsCNN.h5\" # Location to get yor model\n",
    "checkpoint = ModelCheckpoint(filepath, monitor='loss', verbose=1, save_best_only=True, mode='min')\n",
    "callbacks_list = [checkpoint]\n",
    "\n",
    "#checkpoint = ModelCheckpoint('weights.{epoch:03d}-{val_acc:.4f}.hdf5', monitor='val_acc', verbose=1, save_best_only=True, mode='auto')\n",
    "adam = Adam(lr=1e-4, beta_1=0.9, beta_2=0.999, epsilon=1e-08, decay=0.0)\n",
    "\n",
    "model.compile(optimizer=adam, loss='binary_crossentropy', metrics=['accuracy'])\n",
    "print(\"Traning Model...\")\n",
    "\n",
    "hist=model.fit(data, labels,validation_split=0.05, epochs=9, batch_size=1024 , callbacks=callbacks_list)\n",
    "\n",
    "\n",
    "\n",
    "\n",
    "\n",
    "#model.fit(X_train, y_train, batch_size=batch_size, epochs=epochs, verbose=1, callbacks=[checkpoint], validation_data=(X_test, y_test))  # starts training\n",
    "\n",
    "\n",
    "\n"
   ]
  },
  {
   "cell_type": "code",
   "execution_count": 32,
   "metadata": {
    "colab": {
     "base_uri": "https://localhost:8080/",
     "height": 573
    },
    "colab_type": "code",
    "id": "wSdvmr0vLCHh",
    "outputId": "a524afb5-76c3-4e61-9deb-b8fdbab2072f"
   },
   "outputs": [
    {
     "data": {
      "image/png": "[encoded data removed]",
      "text/plain": [
       "<Figure size 432x288 with 1 Axes>"
      ]
     },
     "metadata": {
      "tags": []
     },
     "output_type": "display_data"
    },
    {
     "data": {
      "image/png": "[encoded data removed]",
      "text/plain": [
       "<Figure size 432x288 with 1 Axes>"
      ]
     },
     "metadata": {
      "tags": []
     },
     "output_type": "display_data"
    }
   ],
   "source": [
    "\n",
    "import matplotlib.pyplot as plt\n",
    "\n",
    "#history = model.fit(x, y, validation_split=0.25, epochs=50, batch_size=16, verbose=1)\n",
    "\n",
    "# Plot training & validation accuracy values\n",
    "plt.plot(hist.history['acc'])\n",
    "plt.plot(hist.history['val_acc'])\n",
    "plt.title('Model accuracy')\n",
    "plt.ylabel('Accuracy')\n",
    "plt.xlabel('Epoch')\n",
    "plt.legend(['Train', 'Test'], loc='upper left')\n",
    "plt.show()\n",
    "\n",
    "# Plot training & validation loss values\n",
    "plt.plot(hist.history['loss'])\n",
    "plt.plot(hist.history['val_loss'])\n",
    "plt.title('Model loss')\n",
    "plt.ylabel('Loss')\n",
    "plt.xlabel('Epoch')\n",
    "plt.legend(['Train', 'Test'], loc='upper left')\n",
    "plt.show()"
   ]
  },
  {
   "cell_type": "code",
   "execution_count": 14,
   "metadata": {
    "colab": {
     "base_uri": "https://localhost:8080/",
     "height": 853
    },
    "colab_type": "code",
    "id": "vLI4GU_Lb8DY",
    "outputId": "ca7b835b-7385-4fd6-f804-a36d234ad095"
   },
   "outputs": [
    {
     "name": "stdout",
     "output_type": "stream",
     "text": [
      "WARNING:tensorflow:From /usr/local/lib/python3.6/dist-packages/keras/backend/tensorflow_backend.py:541: The name tf.placeholder is deprecated. Please use tf.compat.v1.placeholder instead.\n",
      "\n",
      "WARNING:tensorflow:From /usr/local/lib/python3.6/dist-packages/keras/backend/tensorflow_backend.py:4432: The name tf.random_uniform is deprecated. Please use tf.random.uniform instead.\n",
      "\n",
      "WARNING:tensorflow:From /usr/local/lib/python3.6/dist-packages/keras/backend/tensorflow_backend.py:4409: The name tf.random_normal is deprecated. Please use tf.random.normal instead.\n",
      "\n",
      "WARNING:tensorflow:From /usr/local/lib/python3.6/dist-packages/keras/backend/tensorflow_backend.py:4267: The name tf.nn.max_pool is deprecated. Please use tf.nn.max_pool2d instead.\n",
      "\n",
      "WARNING:tensorflow:From /usr/local/lib/python3.6/dist-packages/keras/backend/tensorflow_backend.py:148: The name tf.placeholder_with_default is deprecated. Please use tf.compat.v1.placeholder_with_default instead.\n",
      "\n",
      "WARNING:tensorflow:From /usr/local/lib/python3.6/dist-packages/keras/backend/tensorflow_backend.py:3733: calling dropout (from tensorflow.python.ops.nn_ops) with keep_prob is deprecated and will be removed in a future version.\n",
      "Instructions for updating:\n",
      "Please use `rate` instead of `keep_prob`. Rate should be set to `rate = 1 - keep_prob`.\n",
      "WARNING:tensorflow:From /usr/local/lib/python3.6/dist-packages/keras/backend/tensorflow_backend.py:190: The name tf.get_default_session is deprecated. Please use tf.compat.v1.get_default_session instead.\n",
      "\n",
      "WARNING:tensorflow:From /usr/local/lib/python3.6/dist-packages/keras/backend/tensorflow_backend.py:197: The name tf.ConfigProto is deprecated. Please use tf.compat.v1.ConfigProto instead.\n",
      "\n",
      "WARNING:tensorflow:From /usr/local/lib/python3.6/dist-packages/keras/backend/tensorflow_backend.py:203: The name tf.Session is deprecated. Please use tf.compat.v1.Session instead.\n",
      "\n",
      "WARNING:tensorflow:From /usr/local/lib/python3.6/dist-packages/keras/backend/tensorflow_backend.py:207: The name tf.global_variables is deprecated. Please use tf.compat.v1.global_variables instead.\n",
      "\n",
      "WARNING:tensorflow:From /usr/local/lib/python3.6/dist-packages/keras/backend/tensorflow_backend.py:216: The name tf.is_variable_initialized is deprecated. Please use tf.compat.v1.is_variable_initialized instead.\n",
      "\n",
      "WARNING:tensorflow:From /usr/local/lib/python3.6/dist-packages/keras/backend/tensorflow_backend.py:223: The name tf.variables_initializer is deprecated. Please use tf.compat.v1.variables_initializer instead.\n",
      "\n",
      "WARNING:tensorflow:From /usr/local/lib/python3.6/dist-packages/keras/optimizers.py:793: The name tf.train.Optimizer is deprecated. Please use tf.compat.v1.train.Optimizer instead.\n",
      "\n",
      "WARNING:tensorflow:From /usr/local/lib/python3.6/dist-packages/keras/backend/tensorflow_backend.py:3657: The name tf.log is deprecated. Please use tf.math.log instead.\n",
      "\n",
      "WARNING:tensorflow:From /usr/local/lib/python3.6/dist-packages/tensorflow_core/python/ops/nn_impl.py:183: where (from tensorflow.python.ops.array_ops) is deprecated and will be removed in a future version.\n",
      "Instructions for updating:\n",
      "Use tf.where in 2.0, which has the same broadcast rule as np.where\n",
      "WARNING:tensorflow:From /usr/local/lib/python3.6/dist-packages/keras/backend/tensorflow_backend.py:1033: The name tf.assign_add is deprecated. Please use tf.compat.v1.assign_add instead.\n",
      "\n",
      "WARNING:tensorflow:From /usr/local/lib/python3.6/dist-packages/keras/backend/tensorflow_backend.py:1020: The name tf.assign is deprecated. Please use tf.compat.v1.assign instead.\n",
      "\n",
      "Train on 636085 samples, validate on 33479 samples\n",
      "Epoch 1/3\n",
      "636085/636085 [==============================] - 1003s 2ms/step - loss: 0.2936 - acc: 0.8739 - val_loss: 0.3716 - val_acc: 0.8402\n",
      "\n",
      "Epoch 00001: loss improved from inf to 0.29361, saving model to /content/drive/My Drive/Hackathon/modelFakeNewsCNNUpdated.h5\n",
      "Epoch 2/3\n",
      "636085/636085 [==============================] - 993s 2ms/step - loss: 0.2873 - acc: 0.8771 - val_loss: 0.3742 - val_acc: 0.8399\n",
      "\n",
      "Epoch 00002: loss improved from 0.29361 to 0.28731, saving model to /content/drive/My Drive/Hackathon/modelFakeNewsCNNUpdated.h5\n",
      "Epoch 3/3\n",
      "636085/636085 [==============================] - 993s 2ms/step - loss: 0.2806 - acc: 0.8801 - val_loss: 0.3770 - val_acc: 0.8407\n",
      "\n",
      "Epoch 00003: loss improved from 0.28731 to 0.28056, saving model to /content/drive/My Drive/Hackathon/modelFakeNewsCNNUpdated.h5\n"
     ]
    }
   ],
   "source": [
    "from keras.models import load_model\n",
    "filepath = \"/content/drive/My Drive/Hackathon/modelFakeNewsCNNUpdated.h5\"  # Location to get yor model\n",
    "filepath1 = \"/content/drive/My Drive/Hackathon/modelFakeNewsCNNUpdated.h5\" # Location to save yor model\n",
    "checkpoint = ModelCheckpoint(filepath1, monitor='loss', verbose=1, save_best_only=True, mode='min')\n",
    "\n",
    "new_model = load_model(filepath)\n",
    "#checkpoint = ModelCheckpoint(filepath, monitor='loss', verbose=1, save_best_only=True, mode='min')\n",
    "callbacks_list = [checkpoint]\n",
    "#new_model.fit(x_train, y_train, epochs=5, batch_size=50, callbacks=callbacks_list)\n",
    "\n",
    "\n",
    "hist=new_model.fit(data, labels,validation_split=0.05, epochs=3, batch_size=1024 , callbacks=callbacks_list)"
   ]
  },
  {
   "cell_type": "code",
   "execution_count": 15,
   "metadata": {
    "colab": {
     "base_uri": "https://localhost:8080/",
     "height": 573
    },
    "colab_type": "code",
    "id": "Pq-1xHzfsazJ",
    "outputId": "8185352e-7cb8-4f86-a629-448c210b075b"
   },
   "outputs": [
    {
     "data": {
      "image/png": "[encoded data removed]",
      "text/plain": [
       "<Figure size 432x288 with 1 Axes>"
      ]
     },
     "metadata": {
      "tags": []
     },
     "output_type": "display_data"
    },
    {
     "data": {
      "image/png": "[encoded data removed]",
      "text/plain": [
       "<Figure size 432x288 with 1 Axes>"
      ]
     },
     "metadata": {
      "tags": []
     },
     "output_type": "display_data"
    }
   ],
   "source": [
    "\n",
    "import matplotlib.pyplot as plt\n",
    "\n",
    "#history = model.fit(x, y, validation_split=0.25, epochs=50, batch_size=16, verbose=1)\n",
    "\n",
    "# Plot training & validation accuracy values\n",
    "plt.plot(hist.history['acc'])\n",
    "plt.plot(hist.history['val_acc'])\n",
    "plt.title('Model accuracy')\n",
    "plt.ylabel('Accuracy')\n",
    "plt.xlabel('Epoch')\n",
    "plt.legend(['Train', 'Test'], loc='upper left')\n",
    "plt.show()\n",
    "\n",
    "# Plot training & validation loss values\n",
    "plt.plot(hist.history['loss'])\n",
    "plt.plot(hist.history['val_loss'])\n",
    "plt.title('Model loss')\n",
    "plt.ylabel('Loss')\n",
    "plt.xlabel('Epoch')\n",
    "plt.legend(['Train', 'Test'], loc='upper left')\n",
    "plt.show()"
   ]
  },
  {
   "cell_type": "code",
   "execution_count": 12,
   "metadata": {
    "colab": {
     "base_uri": "https://localhost:8080/",
     "height": 1000
    },
    "colab_type": "code",
    "id": "AfYubg0f4khJ",
    "outputId": "cfc152cc-650b-4e68-93e7-8c5219ea6c32"
   },
   "outputs": [
    {
     "name": "stdout",
     "output_type": "stream",
     "text": [
      "WARNING:tensorflow:From /usr/local/lib/python3.6/dist-packages/keras/backend/tensorflow_backend.py:541: The name tf.placeholder is deprecated. Please use tf.compat.v1.placeholder instead.\n",
      "\n",
      "WARNING:tensorflow:From /usr/local/lib/python3.6/dist-packages/keras/backend/tensorflow_backend.py:4432: The name tf.random_uniform is deprecated. Please use tf.random.uniform instead.\n",
      "\n",
      "WARNING:tensorflow:From /usr/local/lib/python3.6/dist-packages/keras/backend/tensorflow_backend.py:4409: The name tf.random_normal is deprecated. Please use tf.random.normal instead.\n",
      "\n",
      "WARNING:tensorflow:From /usr/local/lib/python3.6/dist-packages/keras/backend/tensorflow_backend.py:4267: The name tf.nn.max_pool is deprecated. Please use tf.nn.max_pool2d instead.\n",
      "\n",
      "WARNING:tensorflow:From /usr/local/lib/python3.6/dist-packages/keras/backend/tensorflow_backend.py:148: The name tf.placeholder_with_default is deprecated. Please use tf.compat.v1.placeholder_with_default instead.\n",
      "\n",
      "WARNING:tensorflow:From /usr/local/lib/python3.6/dist-packages/keras/backend/tensorflow_backend.py:3733: calling dropout (from tensorflow.python.ops.nn_ops) with keep_prob is deprecated and will be removed in a future version.\n",
      "Instructions for updating:\n",
      "Please use `rate` instead of `keep_prob`. Rate should be set to `rate = 1 - keep_prob`.\n",
      "WARNING:tensorflow:From /usr/local/lib/python3.6/dist-packages/keras/backend/tensorflow_backend.py:190: The name tf.get_default_session is deprecated. Please use tf.compat.v1.get_default_session instead.\n",
      "\n",
      "WARNING:tensorflow:From /usr/local/lib/python3.6/dist-packages/keras/backend/tensorflow_backend.py:197: The name tf.ConfigProto is deprecated. Please use tf.compat.v1.ConfigProto instead.\n",
      "\n",
      "WARNING:tensorflow:From /usr/local/lib/python3.6/dist-packages/keras/backend/tensorflow_backend.py:203: The name tf.Session is deprecated. Please use tf.compat.v1.Session instead.\n",
      "\n",
      "WARNING:tensorflow:From /usr/local/lib/python3.6/dist-packages/keras/backend/tensorflow_backend.py:207: The name tf.global_variables is deprecated. Please use tf.compat.v1.global_variables instead.\n",
      "\n",
      "WARNING:tensorflow:From /usr/local/lib/python3.6/dist-packages/keras/backend/tensorflow_backend.py:216: The name tf.is_variable_initialized is deprecated. Please use tf.compat.v1.is_variable_initialized instead.\n",
      "\n",
      "WARNING:tensorflow:From /usr/local/lib/python3.6/dist-packages/keras/backend/tensorflow_backend.py:223: The name tf.variables_initializer is deprecated. Please use tf.compat.v1.variables_initializer instead.\n",
      "\n",
      "WARNING:tensorflow:From /usr/local/lib/python3.6/dist-packages/keras/optimizers.py:793: The name tf.train.Optimizer is deprecated. Please use tf.compat.v1.train.Optimizer instead.\n",
      "\n",
      "WARNING:tensorflow:From /usr/local/lib/python3.6/dist-packages/keras/backend/tensorflow_backend.py:3657: The name tf.log is deprecated. Please use tf.math.log instead.\n",
      "\n",
      "WARNING:tensorflow:From /usr/local/lib/python3.6/dist-packages/tensorflow_core/python/ops/nn_impl.py:183: where (from tensorflow.python.ops.array_ops) is deprecated and will be removed in a future version.\n",
      "Instructions for updating:\n",
      "Use tf.where in 2.0, which has the same broadcast rule as np.where\n",
      "WARNING:tensorflow:From /usr/local/lib/python3.6/dist-packages/keras/backend/tensorflow_backend.py:1033: The name tf.assign_add is deprecated. Please use tf.compat.v1.assign_add instead.\n",
      "\n",
      "WARNING:tensorflow:From /usr/local/lib/python3.6/dist-packages/keras/backend/tensorflow_backend.py:1020: The name tf.assign is deprecated. Please use tf.compat.v1.assign instead.\n",
      "\n",
      "Train on 636085 samples, validate on 33479 samples\n",
      "Epoch 1/10\n",
      "636085/636085 [==============================] - 1001s 2ms/step - loss: 0.2748 - acc: 0.8835 - val_loss: 0.3772 - val_acc: 0.8404\n",
      "\n",
      "Epoch 00001: loss improved from inf to 0.27476, saving model to /content/drive/My Drive/Hackathon/modelFakeNewsCNNUpdated1.h5\n",
      "Epoch 2/10\n",
      "636085/636085 [==============================] - 992s 2ms/step - loss: 0.2684 - acc: 0.8864 - val_loss: 0.3798 - val_acc: 0.8403\n",
      "\n",
      "Epoch 00002: loss improved from 0.27476 to 0.26837, saving model to /content/drive/My Drive/Hackathon/modelFakeNewsCNNUpdated1.h5\n",
      "Epoch 3/10\n",
      "636085/636085 [==============================] - 992s 2ms/step - loss: 0.2632 - acc: 0.8885 - val_loss: 0.3816 - val_acc: 0.8401\n",
      "\n",
      "Epoch 00003: loss improved from 0.26837 to 0.26319, saving model to /content/drive/My Drive/Hackathon/modelFakeNewsCNNUpdated1.h5\n",
      "Epoch 4/10\n",
      "636085/636085 [==============================] - 992s 2ms/step - loss: 0.2573 - acc: 0.8912 - val_loss: 0.3855 - val_acc: 0.8383\n",
      "\n",
      "Epoch 00004: loss improved from 0.26319 to 0.25734, saving model to /content/drive/My Drive/Hackathon/modelFakeNewsCNNUpdated1.h5\n",
      "Epoch 5/10\n",
      "636085/636085 [==============================] - 992s 2ms/step - loss: 0.2515 - acc: 0.8935 - val_loss: 0.3885 - val_acc: 0.8395\n",
      "\n",
      "Epoch 00005: loss improved from 0.25734 to 0.25149, saving model to /content/drive/My Drive/Hackathon/modelFakeNewsCNNUpdated1.h5\n",
      "Epoch 6/10\n",
      "636085/636085 [==============================] - 992s 2ms/step - loss: 0.2469 - acc: 0.8960 - val_loss: 0.3924 - val_acc: 0.8391\n",
      "\n",
      "Epoch 00006: loss improved from 0.25149 to 0.24691, saving model to /content/drive/My Drive/Hackathon/modelFakeNewsCNNUpdated1.h5\n",
      "Epoch 7/10\n",
      "636085/636085 [==============================] - 992s 2ms/step - loss: 0.2423 - acc: 0.8978 - val_loss: 0.3950 - val_acc: 0.8391\n",
      "\n",
      "Epoch 00007: loss improved from 0.24691 to 0.24231, saving model to /content/drive/My Drive/Hackathon/modelFakeNewsCNNUpdated1.h5\n",
      "Epoch 8/10\n",
      "636085/636085 [==============================] - 992s 2ms/step - loss: 0.2370 - acc: 0.9001 - val_loss: 0.3999 - val_acc: 0.8373\n",
      "\n",
      "Epoch 00008: loss improved from 0.24231 to 0.23703, saving model to /content/drive/My Drive/Hackathon/modelFakeNewsCNNUpdated1.h5\n",
      "Epoch 9/10\n",
      "636085/636085 [==============================] - 992s 2ms/step - loss: 0.2328 - acc: 0.9022 - val_loss: 0.4021 - val_acc: 0.8378\n",
      "\n",
      "Epoch 00009: loss improved from 0.23703 to 0.23283, saving model to /content/drive/My Drive/Hackathon/modelFakeNewsCNNUpdated1.h5\n",
      "Epoch 10/10\n",
      "636085/636085 [==============================] - 992s 2ms/step - loss: 0.2277 - acc: 0.9043 - val_loss: 0.4073 - val_acc: 0.8389\n",
      "\n",
      "Epoch 00010: loss improved from 0.23283 to 0.22773, saving model to /content/drive/My Drive/Hackathon/modelFakeNewsCNNUpdated1.h5\n"
     ]
    }
   ],
   "source": [
    "from keras.models import load_model\n",
    "filepath = \"/content/drive/My Drive/Hackathon/modelFakeNewsCNNUpdated.h5\"  # Location to get yor model\n",
    "filepath1 = \"/content/drive/My Drive/Hackathon/modelFakeNewsCNNUpdated1.h5\" # Location to save yor model\n",
    "checkpoint = ModelCheckpoint(filepath1, monitor='loss', verbose=1, save_best_only=True, mode='min')\n",
    "\n",
    "new_model = load_model(filepath)\n",
    "#checkpoint = ModelCheckpoint(filepath, monitor='loss', verbose=1, save_best_only=True, mode='min')\n",
    "callbacks_list = [checkpoint]\n",
    "#new_model.fit(x_train, y_train, epochs=5, batch_size=50, callbacks=callbacks_list)\n",
    "\n",
    "\n",
    "hist=new_model.fit(data, labels,validation_split=0.05, epochs=10, batch_size=1024 , callbacks=callbacks_list)"
   ]
  },
  {
   "cell_type": "code",
   "execution_count": 13,
   "metadata": {
    "colab": {
     "base_uri": "https://localhost:8080/",
     "height": 573
    },
    "colab_type": "code",
    "id": "Pfc7zrlQ4uUY",
    "outputId": "87d46bce-18e2-4378-bfde-a42af413dc5e"
   },
   "outputs": [
    {
     "data": {
      "image/png": "[encoded data removed]",
      "text/plain": [
       "<Figure size 432x288 with 1 Axes>"
      ]
     },
     "metadata": {
      "tags": []
     },
     "output_type": "display_data"
    },
    {
     "data": {
      "image/png": "[encoded data removed]",
      "text/plain": [
       "<Figure size 432x288 with 1 Axes>"
      ]
     },
     "metadata": {
      "tags": []
     },
     "output_type": "display_data"
    }
   ],
   "source": [
    "\n",
    "import matplotlib.pyplot as plt\n",
    "\n",
    "#history = model.fit(x, y, validation_split=0.25, epochs=50, batch_size=16, verbose=1)\n",
    "\n",
    "# Plot training & validation accuracy values\n",
    "plt.plot(hist.history['acc'])\n",
    "plt.plot(hist.history['val_acc'])\n",
    "plt.title('Model accuracy')\n",
    "plt.ylabel('Accuracy')\n",
    "plt.xlabel('Epoch')\n",
    "plt.legend(['Train', 'Test'], loc='upper left')\n",
    "plt.show()\n",
    "\n",
    "# Plot training & validation loss values\n",
    "plt.plot(hist.history['loss'])\n",
    "plt.plot(hist.history['val_loss'])\n",
    "plt.title('Model loss')\n",
    "plt.ylabel('Loss')\n",
    "plt.xlabel('Epoch')\n",
    "plt.legend(['Train', 'Test'], loc='upper left')\n",
    "plt.show()"
   ]
  },
  {
   "cell_type": "code",
   "execution_count": 0,
   "metadata": {
    "colab": {},
    "colab_type": "code",
    "id": "IsVF9ns64wiS"
   },
   "outputs": [],
   "source": []
  }
 ],
 "metadata": {
  "accelerator": "GPU",
  "colab": {
   "collapsed_sections": [],
   "name": "project bennett.ipynb",
   "provenance": []
  },
  "kernelspec": {
   "display_name": "Python 3",
   "language": "python",
   "name": "python3"
  }
 },
 "nbformat": 4,
 "nbformat_minor": 1
}
