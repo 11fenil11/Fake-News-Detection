{
  "nbformat": 4,
  "nbformat_minor": 0,
  "metadata": {
    "accelerator": "GPU",
    "colab": {
      "name": "Fake_News_Detection_Phase_1.ipynb",
      "provenance": [],
      "collapsed_sections": [],
      "toc_visible": true
    },
    "kernelspec": {
      "display_name": "Python 3",
      "language": "python",
      "name": "python3"
    }
  },
  "cells": [
    {
      "cell_type": "markdown",
      "metadata": {
        "id": "60M4Db6KS1LY",
        "colab_type": "text"
      },
      "source": [
        "# Title : Fake News Detection\n",
        "\n",
        "\n",
        "---\n",
        "### Abstract : \n",
        "\n",
        "---\n",
        "### Dataset : Dataset contains the detailed information about the particular news i.e. Source of News, Title, image url, etc.\n",
        "\n",
        "---\n",
        "#### Name :                 Enrollment Number : \n",
        "#### Name :                 Enrollment Number : \n",
        "#### Name :                 Enrollment Number : \n",
        "#### Name :                 Enrollment Number : "
      ]
    },
    {
      "cell_type": "code",
      "metadata": {
        "colab_type": "code",
        "id": "Qdgde097gdvS",
        "colab": {
          "base_uri": "https://localhost:8080/",
          "height": 125
        },
        "outputId": "4e058c8d-bbf0-43b5-c83c-324776ea8a82"
      },
      "source": [
        "from google.colab import drive\n",
        "drive.mount('/content/drive')\n"
      ],
      "execution_count": null,
      "outputs": [
        {
          "output_type": "stream",
          "text": [
            "Go to this URL in a browser: https://accounts.google.com/o/oauth2/auth?client_id=947318989803-6bn6qk8qdgf4n4g3pfee6491hc0brc4i.apps.googleusercontent.com&redirect_uri=urn%3aietf%3awg%3aoauth%3a2.0%3aoob&response_type=code&scope=email%20https%3a%2f%2fwww.googleapis.com%2fauth%2fdocs.test%20https%3a%2f%2fwww.googleapis.com%2fauth%2fdrive%20https%3a%2f%2fwww.googleapis.com%2fauth%2fdrive.photos.readonly%20https%3a%2f%2fwww.googleapis.com%2fauth%2fpeopleapi.readonly\n",
            "\n",
            "Enter your authorization code:\n",
            "··········\n",
            "Mounted at /content/drive\n"
          ],
          "name": "stdout"
        }
      ]
    },
    {
      "cell_type": "code",
      "metadata": {
        "colab_type": "code",
        "id": "mo7XeOGhYIDq",
        "colab": {}
      },
      "source": [
        "#root_path = 'gdrive/My Drive/your_project_folder/'  #change dir to your project folder\n",
        "root_path = '/content/drive/My Drive/Essential'\n"
      ],
      "execution_count": null,
      "outputs": []
    },
    {
      "cell_type": "code",
      "metadata": {
        "colab_type": "code",
        "id": "a6sDM40HY01j",
        "colab": {
          "base_uri": "https://localhost:8080/",
          "height": 353
        },
        "outputId": "66c2881b-3315-4d0e-8b5a-4ed2dedb6ff4"
      },
      "source": [
        "!wget http://nlp.stanford.edu/data/glove.6B.zip"
      ],
      "execution_count": null,
      "outputs": [
        {
          "output_type": "stream",
          "text": [
            "--2020-07-15 13:32:16--  http://nlp.stanford.edu/data/glove.6B.zip\n",
            "Resolving nlp.stanford.edu (nlp.stanford.edu)... 171.64.67.140\n",
            "Connecting to nlp.stanford.edu (nlp.stanford.edu)|171.64.67.140|:80... connected.\n",
            "HTTP request sent, awaiting response... 302 Found\n",
            "Location: https://nlp.stanford.edu/data/glove.6B.zip [following]\n",
            "--2020-07-15 13:32:16--  https://nlp.stanford.edu/data/glove.6B.zip\n",
            "Connecting to nlp.stanford.edu (nlp.stanford.edu)|171.64.67.140|:443... connected.\n",
            "HTTP request sent, awaiting response... 301 Moved Permanently\n",
            "Location: http://downloads.cs.stanford.edu/nlp/data/glove.6B.zip [following]\n",
            "--2020-07-15 13:32:17--  http://downloads.cs.stanford.edu/nlp/data/glove.6B.zip\n",
            "Resolving downloads.cs.stanford.edu (downloads.cs.stanford.edu)... 171.64.64.22\n",
            "Connecting to downloads.cs.stanford.edu (downloads.cs.stanford.edu)|171.64.64.22|:80... connected.\n",
            "HTTP request sent, awaiting response... 200 OK\n",
            "Length: 862182613 (822M) [application/zip]\n",
            "Saving to: ‘glove.6B.zip.1’\n",
            "\n",
            "glove.6B.zip.1      100%[===================>] 822.24M  2.11MB/s    in 6m 29s  \n",
            "\n",
            "2020-07-15 13:38:46 (2.11 MB/s) - ‘glove.6B.zip.1’ saved [862182613/862182613]\n",
            "\n"
          ],
          "name": "stdout"
        }
      ]
    },
    {
      "cell_type": "code",
      "metadata": {
        "colab_type": "code",
        "id": "xcAUdTtMbkRI",
        "colab": {
          "base_uri": "https://localhost:8080/",
          "height": 101
        },
        "outputId": "f011b348-37fc-452f-b0a1-a9ff7ffe32e4"
      },
      "source": [
        "!unzip glove*.zip"
      ],
      "execution_count": null,
      "outputs": [
        {
          "output_type": "stream",
          "text": [
            "Archive:  glove.6B.zip\n",
            "  inflating: glove.6B.50d.txt        \n",
            "  inflating: glove.6B.100d.txt       \n",
            "  inflating: glove.6B.200d.txt       \n",
            "  inflating: glove.6B.300d.txt       \n"
          ],
          "name": "stdout"
        }
      ]
    },
    {
      "cell_type": "code",
      "metadata": {
        "colab_type": "code",
        "id": "qGuG7NgNY889",
        "colab": {}
      },
      "source": [
        "# Now just move the glove.6B.100d.txt file directly from local folder to your drive folder from table of content file."
      ],
      "execution_count": null,
      "outputs": []
    },
    {
      "cell_type": "code",
      "metadata": {
        "colab_type": "code",
        "id": "8RyGAm75cruN",
        "colab": {
          "base_uri": "https://localhost:8080/",
          "height": 615
        },
        "outputId": "844c93a7-ae17-4575-c8ef-57ebcf5a6454"
      },
      "source": [
        "import keras\n",
        "from tensorflow.python.client import device_lib\n",
        "\n",
        "print(device_lib.list_local_devices())\n",
        "import numpy as np\n",
        "import pandas \n",
        "\n",
        "import pandas as pd\n",
        "from collections import defaultdict\n",
        "import re\n",
        "\n",
        "\n",
        "import sys\n",
        "import os\n",
        "\n",
        "from keras.preprocessing.text import Tokenizer\n",
        "from keras.preprocessing.sequence import pad_sequences\n",
        "from keras.utils.np_utils import to_categorical\n",
        "\n",
        "from keras.layers import Embedding\n",
        "from keras.layers import Dense, Input, Flatten\n",
        "from keras.layers import Conv1D, MaxPooling1D, Embedding, Dropout\n",
        "from keras.models import Model\n",
        "\n",
        "\n",
        "\n",
        "#NlTK\n",
        "\n",
        "from wordcloud import WordCloud,STOPWORDS\n",
        "import re\n",
        "import nltk\n",
        "nltk.download('stopwords')\n",
        "from nltk.corpus import stopwords\n",
        "import matplotlib.pyplot as plt\n",
        "import matplotlib.patches as mpatches\n",
        "\n",
        "\n",
        "#For Model\n",
        "\n",
        "from keras.layers import Input, Dense, Embedding, Conv2D, MaxPool2D\n",
        "from keras.layers import Reshape, Flatten, Dropout, Concatenate\n",
        "from keras.callbacks import ModelCheckpoint\n",
        "from keras.optimizers import Adam\n",
        "from keras.models import Model\n",
        "from sklearn.model_selection import train_test_split\n",
        "\n",
        "# Train Test Split\n",
        "from sklearn.model_selection import train_test_split\n",
        "\n",
        "MAX_SEQUENCE_LENGTH = 1000\n",
        "MAX_NB_WORDS = 200000\n",
        "EMBEDDING_DIM = 100\n",
        "VALIDATION_SPLIT = 0.2"
      ],
      "execution_count": null,
      "outputs": [
        {
          "output_type": "stream",
          "text": [
            "Using TensorFlow backend.\n"
          ],
          "name": "stderr"
        },
        {
          "output_type": "stream",
          "text": [
            "[name: \"/device:CPU:0\"\n",
            "device_type: \"CPU\"\n",
            "memory_limit: 268435456\n",
            "locality {\n",
            "}\n",
            "incarnation: 2705695449053378754\n",
            ", name: \"/device:XLA_CPU:0\"\n",
            "device_type: \"XLA_CPU\"\n",
            "memory_limit: 17179869184\n",
            "locality {\n",
            "}\n",
            "incarnation: 6575884794933238904\n",
            "physical_device_desc: \"device: XLA_CPU device\"\n",
            ", name: \"/device:XLA_GPU:0\"\n",
            "device_type: \"XLA_GPU\"\n",
            "memory_limit: 17179869184\n",
            "locality {\n",
            "}\n",
            "incarnation: 4556872623791190397\n",
            "physical_device_desc: \"device: XLA_GPU device\"\n",
            ", name: \"/device:GPU:0\"\n",
            "device_type: \"GPU\"\n",
            "memory_limit: 11150726272\n",
            "locality {\n",
            "  bus_id: 1\n",
            "  links {\n",
            "  }\n",
            "}\n",
            "incarnation: 11552052665402783893\n",
            "physical_device_desc: \"device: 0, name: Tesla K80, pci bus id: 0000:00:04.0, compute capability: 3.7\"\n",
            "]\n",
            "[nltk_data] Downloading package stopwords to /root/nltk_data...\n",
            "[nltk_data]   Unzipping corpora/stopwords.zip.\n"
          ],
          "name": "stdout"
        }
      ]
    },
    {
      "cell_type": "code",
      "metadata": {
        "colab_type": "code",
        "id": "4MQnoxaDdfsj",
        "colab": {}
      },
      "source": [
        "#Give path to file train.tsv from folder Essential\n",
        "df = pd.read_csv(\"/content/drive/My Drive/Essential/train.tsv\",sep='\\t') # Here train.tsv is the same dataset just upload it to your respective google drive and copy the path here\n",
        "df.head()"
      ],
      "execution_count": null,
      "outputs": []
    },
    {
      "cell_type": "code",
      "metadata": {
        "colab_type": "code",
        "id": "YTkUdKnMdkbY",
        "colab": {
          "base_uri": "https://localhost:8080/",
          "height": 246
        },
        "outputId": "019f7e23-c772-47c4-a100-bcc2f8454c0c"
      },
      "source": [
        "df1=df.iloc[:,[5,7,8,10,12,13,17]]#['num_comments','score','upvote_ratio','clean_title','2_way_label'])\n",
        "df1=df1.iloc[:,:]\n",
        "df1.head()"
      ],
      "execution_count": null,
      "outputs": [
        {
          "output_type": "execute_result",
          "data": {
            "text/html": [
              "<div>\n",
              "<style scoped>\n",
              "    .dataframe tbody tr th:only-of-type {\n",
              "        vertical-align: middle;\n",
              "    }\n",
              "\n",
              "    .dataframe tbody tr th {\n",
              "        vertical-align: top;\n",
              "    }\n",
              "\n",
              "    .dataframe thead th {\n",
              "        text-align: right;\n",
              "    }\n",
              "</style>\n",
              "<table border=\"1\" class=\"dataframe\">\n",
              "  <thead>\n",
              "    <tr style=\"text-align: right;\">\n",
              "      <th></th>\n",
              "      <th>clean_title</th>\n",
              "      <th>domain</th>\n",
              "      <th>hasImage</th>\n",
              "      <th>image_url</th>\n",
              "      <th>num_comments</th>\n",
              "      <th>score</th>\n",
              "      <th>2_way_label</th>\n",
              "    </tr>\n",
              "  </thead>\n",
              "  <tbody>\n",
              "    <tr>\n",
              "      <th>0</th>\n",
              "      <td>my walgreens offbrand mucinex was engraved wit...</td>\n",
              "      <td>i.imgur.com</td>\n",
              "      <td>True</td>\n",
              "      <td>https://external-preview.redd.it/WylDbZrnbvZdB...</td>\n",
              "      <td>2.0</td>\n",
              "      <td>12</td>\n",
              "      <td>1</td>\n",
              "    </tr>\n",
              "    <tr>\n",
              "      <th>1</th>\n",
              "      <td>NaN</td>\n",
              "      <td>NaN</td>\n",
              "      <td>True</td>\n",
              "      <td>http://i.imgur.com/yxrkYT8.jpg</td>\n",
              "      <td>NaN</td>\n",
              "      <td>5</td>\n",
              "      <td>0</td>\n",
              "    </tr>\n",
              "    <tr>\n",
              "      <th>2</th>\n",
              "      <td>this concerned sink with a tiny hat</td>\n",
              "      <td>i.redd.it</td>\n",
              "      <td>True</td>\n",
              "      <td>https://preview.redd.it/wsfx0gp0f5h11.jpg?widt...</td>\n",
              "      <td>2.0</td>\n",
              "      <td>119</td>\n",
              "      <td>0</td>\n",
              "    </tr>\n",
              "    <tr>\n",
              "      <th>3</th>\n",
              "      <td>hackers leak emails from uae ambassador to us</td>\n",
              "      <td>aljazeera.com</td>\n",
              "      <td>True</td>\n",
              "      <td>https://external-preview.redd.it/6fNhdbc6K1vFA...</td>\n",
              "      <td>1.0</td>\n",
              "      <td>44</td>\n",
              "      <td>1</td>\n",
              "    </tr>\n",
              "    <tr>\n",
              "      <th>4</th>\n",
              "      <td>NaN</td>\n",
              "      <td>NaN</td>\n",
              "      <td>True</td>\n",
              "      <td>http://i.imgur.com/M8KTWMx.jpg</td>\n",
              "      <td>NaN</td>\n",
              "      <td>3</td>\n",
              "      <td>0</td>\n",
              "    </tr>\n",
              "  </tbody>\n",
              "</table>\n",
              "</div>"
            ],
            "text/plain": [
              "                                         clean_title  ... 2_way_label\n",
              "0  my walgreens offbrand mucinex was engraved wit...  ...           1\n",
              "1                                                NaN  ...           0\n",
              "2                this concerned sink with a tiny hat  ...           0\n",
              "3      hackers leak emails from uae ambassador to us  ...           1\n",
              "4                                                NaN  ...           0\n",
              "\n",
              "[5 rows x 7 columns]"
            ]
          },
          "metadata": {
            "tags": []
          },
          "execution_count": 11
        }
      ]
    },
    {
      "cell_type": "code",
      "metadata": {
        "colab_type": "code",
        "id": "n88icFKidpAI",
        "colab": {
          "base_uri": "https://localhost:8080/",
          "height": 118
        },
        "outputId": "777c5344-d874-4f09-9988-a1fe10de80a4"
      },
      "source": [
        "df1.iloc[:,:-1]=df1.iloc[:,:-1].replace(to_replace = np.nan, value ='') "
      ],
      "execution_count": null,
      "outputs": [
        {
          "output_type": "stream",
          "text": [
            "/usr/local/lib/python3.6/dist-packages/pandas/core/indexing.py:966: SettingWithCopyWarning: \n",
            "A value is trying to be set on a copy of a slice from a DataFrame.\n",
            "Try using .loc[row_indexer,col_indexer] = value instead\n",
            "\n",
            "See the caveats in the documentation: https://pandas.pydata.org/pandas-docs/stable/user_guide/indexing.html#returning-a-view-versus-a-copy\n",
            "  self.obj[item] = s\n"
          ],
          "name": "stderr"
        }
      ]
    },
    {
      "cell_type": "code",
      "metadata": {
        "colab_type": "code",
        "id": "PjAqMWpxdt-9",
        "colab": {
          "base_uri": "https://localhost:8080/",
          "height": 118
        },
        "outputId": "46a1aef8-fffc-48c2-b304-5ced9b07dfcb"
      },
      "source": [
        "df1.iloc[:,-1]=df1.iloc[:,-1].replace(to_replace = np.nan, value =0) "
      ],
      "execution_count": null,
      "outputs": [
        {
          "output_type": "stream",
          "text": [
            "/usr/local/lib/python3.6/dist-packages/pandas/core/indexing.py:966: SettingWithCopyWarning: \n",
            "A value is trying to be set on a copy of a slice from a DataFrame.\n",
            "Try using .loc[row_indexer,col_indexer] = value instead\n",
            "\n",
            "See the caveats in the documentation: https://pandas.pydata.org/pandas-docs/stable/user_guide/indexing.html#returning-a-view-versus-a-copy\n",
            "  self.obj[item] = s\n"
          ],
          "name": "stderr"
        }
      ]
    },
    {
      "cell_type": "code",
      "metadata": {
        "colab_type": "code",
        "id": "yLQRlnia3nV8",
        "colab": {
          "base_uri": "https://localhost:8080/",
          "height": 34
        },
        "outputId": "9692a69c-2fa1-465d-8d4f-290aa2a0d236"
      },
      "source": [
        "texts = []\n",
        "labels = []\n",
        "\n",
        "for i in range(len(list(df1.clean_title))):\n",
        "    text = str(df1['clean_title'][i])\n",
        "    texts.append(text)\n",
        "    labels.append(df1['2_way_label'][i])\n",
        "    \n",
        "tokenizer = Tokenizer(num_words=MAX_NB_WORDS)\n",
        "tokenizer.fit_on_texts(texts)\n",
        "sequences = tokenizer.texts_to_sequences(texts)\n",
        "word_index = tokenizer.word_index\n",
        "\n",
        "print('Found %s unique tokens.' % len(word_index))"
      ],
      "execution_count": null,
      "outputs": [
        {
          "output_type": "stream",
          "text": [
            "Found 147733 unique tokens.\n"
          ],
          "name": "stdout"
        }
      ]
    },
    {
      "cell_type": "code",
      "metadata": {
        "colab_type": "code",
        "id": "keZJP4qQ8hXB",
        "colab": {
          "base_uri": "https://localhost:8080/",
          "height": 50
        },
        "outputId": "cf2125cb-3800-42f7-efe7-aa36e83876b3"
      },
      "source": [
        "# Pad input sequences\n",
        "data = pad_sequences(sequences, maxlen=MAX_SEQUENCE_LENGTH)\n",
        "labels = to_categorical(np.asarray(labels,dtype='int32'),num_classes = 2)\n",
        "print('Shape of data tensor:', data.shape)\n",
        "print('Shape of label tensor:', labels.shape)"
      ],
      "execution_count": null,
      "outputs": [
        {
          "output_type": "stream",
          "text": [
            "Shape of data tensor: (878218, 1000)\n",
            "Shape of label tensor: (878218, 2)\n"
          ],
          "name": "stdout"
        }
      ]
    },
    {
      "cell_type": "code",
      "metadata": {
        "colab_type": "code",
        "id": "Hxwv2FYj8k-F",
        "colab": {}
      },
      "source": [
        "from keras.models import Sequential\n",
        "from keras.layers.convolutional import Conv3D\n",
        "from keras.layers.convolutional_recurrent import ConvLSTM2D\n",
        "from keras.layers.normalization import BatchNormalization\n",
        "import numpy as np\n",
        "from matplotlib import pyplot as plt\n",
        "from keras.layers import Dense, Embedding, LSTM, GRU"
      ],
      "execution_count": null,
      "outputs": []
    },
    {
      "cell_type": "code",
      "metadata": {
        "colab_type": "code",
        "id": "u1J241WhNPaB",
        "colab": {}
      },
      "source": [
        "GLOVE_DIR = \"\" \n",
        "embeddings_index = {}\n",
        "f = open(os.path.join(GLOVE_DIR, '/content/glove.6B.100d.txt'), encoding=\"utf8\") #The file that you had downloaded and moved from local session to drive. "
      ],
      "execution_count": null,
      "outputs": []
    },
    {
      "cell_type": "code",
      "metadata": {
        "colab_type": "code",
        "id": "CSbzIUh-8o_d",
        "colab": {}
      },
      "source": [
        "for line in f:\n",
        "    values = line.split()\n",
        "    #print(values[1:])\n",
        "    word = values[0]\n",
        "    coefs = np.asarray(values[1:], dtype='float32')\n",
        "    embeddings_index[word] = coefs\n",
        "f.close()\n",
        "\n",
        "print('Total %s word vectors in Glove.' % len(embeddings_index))\n",
        "\n",
        "embedding_matrix = np.random.random((len(word_index) + 1, EMBEDDING_DIM))\n",
        "for word, i in word_index.items():\n",
        "    embedding_vector = embeddings_index.get(word)\n",
        "    if embedding_vector is not None:\n",
        "        # words not found in embedding index will be all-zeros.\n",
        "        embedding_matrix[i] = embedding_vector\n",
        "        \n",
        "embedding_layer = Embedding(len(word_index) + 1,\n",
        "                            EMBEDDING_DIM,\n",
        "                            weights=[embedding_matrix],\n",
        "                            input_length=MAX_SEQUENCE_LENGTH)"
      ],
      "execution_count": null,
      "outputs": []
    },
    {
      "cell_type": "code",
      "metadata": {
        "colab_type": "code",
        "id": "I_-lfRXP9C0H",
        "colab": {
          "base_uri": "https://localhost:8080/",
          "height": 874
        },
        "outputId": "a8f5040e-568a-4300-f1a9-34337bb59daa"
      },
      "source": [
        "from keras.callbacks import ModelCheckpoint\n",
        "from keras import layers\n",
        "\n",
        "embedding_vecor_length = 32\n",
        "modell = Sequential()\n",
        "modell.add(embedding_layer)\n",
        "modell.add(Dropout(0.2))\n",
        "modell.add(Conv1D(filters=32, kernel_size=3, padding='same', activation='relu'))\n",
        "modell.add(MaxPooling1D(pool_size=2))\n",
        "modell.add(Conv1D(filters=64, kernel_size=4, padding='same', activation='sigmoid'))\n",
        "modell.add(MaxPooling1D(pool_size=2))\n",
        "modell.add(Conv1D(filters=128, kernel_size=5, padding='same', activation='relu'))\n",
        "modell.add(MaxPooling1D(pool_size=2))\n",
        "modell.add(LSTM(100,activation='relu',recurrent_activation='sigmoid',dropout=0.2, recurrent_dropout=0.2))\n",
        "modell.add(BatchNormalization())\n",
        "modell.add(Dense(1024, activation='relu'))\n",
        "modell.add(layers.Dropout(0.2))\n",
        "modell.add(Dense(512,  activation='relu'))\n",
        "modell.add(layers.Dropout(0.2))\n",
        "modell.add(Dense(256, activation='relu'))\n",
        "modell.add(layers.Dropout(0.2))\n",
        "modell.add(Dense(128, activation='relu'))\n",
        "modell.add(layers.Dropout(0.2))\n",
        "modell.add(Dense(64, activation='relu'))\n",
        "modell.add(layers.Dropout(0.2))\n",
        "modell.add(Dense(2, activation='softmax'))\n",
        "\n",
        "modell.compile(loss='binary_crossentropy', optimizer='adam', metrics=['accuracy'])\n",
        "print(modell.summary())"
      ],
      "execution_count": null,
      "outputs": [
        {
          "output_type": "stream",
          "text": [
            "Model: \"sequential_1\"\n",
            "_________________________________________________________________\n",
            "Layer (type)                 Output Shape              Param #   \n",
            "=================================================================\n",
            "embedding_1 (Embedding)      (None, 1000, 100)         14773400  \n",
            "_________________________________________________________________\n",
            "dropout_1 (Dropout)          (None, 1000, 100)         0         \n",
            "_________________________________________________________________\n",
            "conv1d_1 (Conv1D)            (None, 1000, 32)          9632      \n",
            "_________________________________________________________________\n",
            "max_pooling1d_1 (MaxPooling1 (None, 500, 32)           0         \n",
            "_________________________________________________________________\n",
            "conv1d_2 (Conv1D)            (None, 500, 64)           8256      \n",
            "_________________________________________________________________\n",
            "max_pooling1d_2 (MaxPooling1 (None, 250, 64)           0         \n",
            "_________________________________________________________________\n",
            "conv1d_3 (Conv1D)            (None, 250, 128)          41088     \n",
            "_________________________________________________________________\n",
            "max_pooling1d_3 (MaxPooling1 (None, 125, 128)          0         \n",
            "_________________________________________________________________\n",
            "lstm_1 (LSTM)                (None, 100)               91600     \n",
            "_________________________________________________________________\n",
            "batch_normalization_1 (Batch (None, 100)               400       \n",
            "_________________________________________________________________\n",
            "dense_1 (Dense)              (None, 1024)              103424    \n",
            "_________________________________________________________________\n",
            "dropout_2 (Dropout)          (None, 1024)              0         \n",
            "_________________________________________________________________\n",
            "dense_2 (Dense)              (None, 512)               524800    \n",
            "_________________________________________________________________\n",
            "dropout_3 (Dropout)          (None, 512)               0         \n",
            "_________________________________________________________________\n",
            "dense_3 (Dense)              (None, 256)               131328    \n",
            "_________________________________________________________________\n",
            "dropout_4 (Dropout)          (None, 256)               0         \n",
            "_________________________________________________________________\n",
            "dense_4 (Dense)              (None, 128)               32896     \n",
            "_________________________________________________________________\n",
            "dropout_5 (Dropout)          (None, 128)               0         \n",
            "_________________________________________________________________\n",
            "dense_5 (Dense)              (None, 64)                8256      \n",
            "_________________________________________________________________\n",
            "dropout_6 (Dropout)          (None, 64)                0         \n",
            "_________________________________________________________________\n",
            "dense_6 (Dense)              (None, 2)                 130       \n",
            "=================================================================\n",
            "Total params: 15,725,210\n",
            "Trainable params: 15,725,010\n",
            "Non-trainable params: 200\n",
            "_________________________________________________________________\n",
            "None\n"
          ],
          "name": "stdout"
        }
      ]
    },
    {
      "cell_type": "code",
      "metadata": {
        "id": "h-0zII0oUFym",
        "colab_type": "code",
        "colab": {
          "base_uri": "https://localhost:8080/",
          "height": 709
        },
        "outputId": "0ed89cdb-7071-43b8-c665-b8549959a614"
      },
      "source": [
        "#give path MPFolder save your model in MPFolder\n",
        "filepath = \"/content/drive/My Drive/MPFolder/model.h5\" # Location to save yor model\n",
        "checkpoint = ModelCheckpoint(filepath, monitor='loss', verbose=1, save_best_only=True, mode='min')\n",
        "callbacks_list = [checkpoint]\n",
        "modell.fit(data, labels,validation_split=0.05, epochs=9, batch_size=1024 , callbacks=callbacks_list)"
      ],
      "execution_count": null,
      "outputs": [
        {
          "output_type": "stream",
          "text": [
            "/usr/local/lib/python3.6/dist-packages/tensorflow/python/framework/indexed_slices.py:434: UserWarning: Converting sparse IndexedSlices to a dense Tensor of unknown shape. This may consume a large amount of memory.\n",
            "  \"Converting sparse IndexedSlices to a dense Tensor of unknown shape. \"\n"
          ],
          "name": "stderr"
        },
        {
          "output_type": "stream",
          "text": [
            "Train on 834307 samples, validate on 43911 samples\n",
            "Epoch 1/9\n",
            "834307/834307 [==============================] - 557s 668us/step - loss: 0.4168 - accuracy: 0.8049 - val_loss: 0.4201 - val_accuracy: 0.8046\n",
            "\n",
            "Epoch 00001: loss improved from inf to 0.41680, saving model to /content/drive/My Drive/hackerthon1/model.h5\n",
            "Epoch 2/9\n",
            "834307/834307 [==============================] - 549s 658us/step - loss: 0.3464 - accuracy: 0.8504 - val_loss: 0.3342 - val_accuracy: 0.8553\n",
            "\n",
            "Epoch 00002: loss improved from 0.41680 to 0.34641, saving model to /content/drive/My Drive/hackerthon1/model.h5\n",
            "Epoch 3/9\n",
            "834307/834307 [==============================] - 545s 653us/step - loss: 0.3189 - accuracy: 0.8647 - val_loss: 0.3408 - val_accuracy: 0.8553\n",
            "\n",
            "Epoch 00003: loss improved from 0.34641 to 0.31891, saving model to /content/drive/My Drive/hackerthon1/model.h5\n",
            "Epoch 4/9\n",
            "834307/834307 [==============================] - 546s 654us/step - loss: 0.2979 - accuracy: 0.8750 - val_loss: 0.3530 - val_accuracy: 0.8507\n",
            "\n",
            "Epoch 00004: loss improved from 0.31891 to 0.29785, saving model to /content/drive/My Drive/hackerthon1/model.h5\n",
            "Epoch 5/9\n",
            "834307/834307 [==============================] - 546s 654us/step - loss: 0.2796 - accuracy: 0.8839 - val_loss: 0.3284 - val_accuracy: 0.8615\n",
            "\n",
            "Epoch 00005: loss improved from 0.29785 to 0.27956, saving model to /content/drive/My Drive/hackerthon1/model.h5\n",
            "Epoch 6/9\n",
            "834307/834307 [==============================] - 545s 653us/step - loss: 0.2641 - accuracy: 0.8913 - val_loss: 0.3339 - val_accuracy: 0.8594\n",
            "\n",
            "Epoch 00006: loss improved from 0.27956 to 0.26409, saving model to /content/drive/My Drive/hackerthon1/model.h5\n",
            "Epoch 7/9\n",
            "834307/834307 [==============================] - 546s 655us/step - loss: 0.2504 - accuracy: 0.8975 - val_loss: 0.3415 - val_accuracy: 0.8576\n",
            "\n",
            "Epoch 00007: loss improved from 0.26409 to 0.25040, saving model to /content/drive/My Drive/hackerthon1/model.h5\n",
            "Epoch 8/9\n",
            "834307/834307 [==============================] - 547s 656us/step - loss: 0.2390 - accuracy: 0.9024 - val_loss: 0.3466 - val_accuracy: 0.8539\n",
            "\n",
            "Epoch 00008: loss improved from 0.25040 to 0.23899, saving model to /content/drive/My Drive/hackerthon1/model.h5\n",
            "Epoch 9/9\n",
            "834307/834307 [==============================] - 548s 657us/step - loss: 0.2287 - accuracy: 0.9073 - val_loss: 0.3533 - val_accuracy: 0.8562\n",
            "\n",
            "Epoch 00009: loss improved from 0.23899 to 0.22873, saving model to /content/drive/My Drive/hackerthon1/model.h5\n"
          ],
          "name": "stdout"
        },
        {
          "output_type": "execute_result",
          "data": {
            "text/plain": [
              "<keras.callbacks.callbacks.History at 0x7f8d89e347b8>"
            ]
          },
          "metadata": {
            "tags": []
          },
          "execution_count": 35
        }
      ]
    },
    {
      "cell_type": "code",
      "metadata": {
        "colab_type": "code",
        "id": "pnLr53A1Nk6D",
        "colab": {}
      },
      "source": [
        "import os\n",
        "\n",
        "base_dir = 'MPFolder'\n",
        "os.mkdir(base_dir)"
      ],
      "execution_count": null,
      "outputs": []
    },
    {
      "cell_type": "code",
      "metadata": {
        "colab_type": "code",
        "id": "hePF2dkwzEZ3",
        "colab": {}
      },
      "source": [
        "base_dir = 'LPFolder'\n",
        "os.mkdir(base_dir)"
      ],
      "execution_count": null,
      "outputs": []
    },
    {
      "cell_type": "code",
      "metadata": {
        "colab_type": "code",
        "id": "dSv7gxum3L53",
        "colab": {
          "base_uri": "https://localhost:8080/",
          "height": 709
        },
        "outputId": "14842793-abe7-4494-d9d3-42ea6813ca9c"
      },
      "source": [
        "from keras.models import load_model\n",
        "filepath = \"/content/drive/My Drive/MPFolder/model.h5\"  # Location to get yor model\n",
        "filepath1 = \"/content/drive/My Drive/MPFolder/hackerthon1.h5\" # Location to save yor model\n",
        "checkpoint = ModelCheckpoint(filepath1, monitor='loss', verbose=1, save_best_only=True, mode='min')\n",
        "\n",
        "new_model = load_model(filepath)\n",
        "#checkpoint = ModelCheckpoint(filepath, monitor='loss', verbose=1, save_best_only=True, mode='min')\n",
        "callbacks_list = [checkpoint]\n",
        "#new_model.fit(x_train, y_train, epochs=5, batch_size=50, callbacks=callbacks_list)\n",
        "\n",
        "\n",
        "new_model.fit(data, labels,validation_split=0.05, epochs=9, batch_size=1024 , callbacks=callbacks_list)"
      ],
      "execution_count": null,
      "outputs": [
        {
          "output_type": "stream",
          "text": [
            "/usr/local/lib/python3.6/dist-packages/tensorflow/python/framework/indexed_slices.py:434: UserWarning: Converting sparse IndexedSlices to a dense Tensor of unknown shape. This may consume a large amount of memory.\n",
            "  \"Converting sparse IndexedSlices to a dense Tensor of unknown shape. \"\n"
          ],
          "name": "stderr"
        },
        {
          "output_type": "stream",
          "text": [
            "Train on 834307 samples, validate on 43911 samples\n",
            "Epoch 1/9\n",
            "834307/834307 [==============================] - 555s 665us/step - loss: 0.2193 - accuracy: 0.9110 - val_loss: 0.3595 - val_accuracy: 0.8553\n",
            "\n",
            "Epoch 00001: loss improved from inf to 0.21929, saving model to /content/drive/My Drive/hackerthon1/hackerthon1.h5\n",
            "Epoch 2/9\n",
            "834307/834307 [==============================] - 553s 662us/step - loss: 0.2118 - accuracy: 0.9140 - val_loss: 0.3684 - val_accuracy: 0.8577\n",
            "\n",
            "Epoch 00002: loss improved from 0.21929 to 0.21180, saving model to /content/drive/My Drive/hackerthon1/hackerthon1.h5\n",
            "Epoch 3/9\n",
            "834307/834307 [==============================] - 551s 660us/step - loss: 0.2033 - accuracy: 0.9178 - val_loss: 0.3772 - val_accuracy: 0.8561\n",
            "\n",
            "Epoch 00003: loss improved from 0.21180 to 0.20330, saving model to /content/drive/My Drive/hackerthon1/hackerthon1.h5\n",
            "Epoch 4/9\n",
            "834307/834307 [==============================] - 550s 659us/step - loss: 0.1960 - accuracy: 0.9212 - val_loss: 0.3919 - val_accuracy: 0.8485\n",
            "\n",
            "Epoch 00004: loss improved from 0.20330 to 0.19602, saving model to /content/drive/My Drive/hackerthon1/hackerthon1.h5\n",
            "Epoch 5/9\n",
            "834307/834307 [==============================] - 550s 659us/step - loss: 0.1894 - accuracy: 0.9239 - val_loss: 0.3654 - val_accuracy: 0.8579\n",
            "\n",
            "Epoch 00005: loss improved from 0.19602 to 0.18937, saving model to /content/drive/My Drive/hackerthon1/hackerthon1.h5\n",
            "Epoch 6/9\n",
            "834307/834307 [==============================] - 549s 658us/step - loss: 0.1835 - accuracy: 0.9263 - val_loss: 0.4068 - val_accuracy: 0.8472\n",
            "\n",
            "Epoch 00006: loss improved from 0.18937 to 0.18349, saving model to /content/drive/My Drive/hackerthon1/hackerthon1.h5\n",
            "Epoch 7/9\n",
            "834307/834307 [==============================] - 550s 659us/step - loss: 0.1776 - accuracy: 0.9288 - val_loss: 0.3888 - val_accuracy: 0.8539\n",
            "\n",
            "Epoch 00007: loss improved from 0.18349 to 0.17758, saving model to /content/drive/My Drive/hackerthon1/hackerthon1.h5\n",
            "Epoch 8/9\n",
            "834307/834307 [==============================] - 548s 657us/step - loss: 0.1726 - accuracy: 0.9312 - val_loss: 0.3897 - val_accuracy: 0.8534\n",
            "\n",
            "Epoch 00008: loss improved from 0.17758 to 0.17264, saving model to /content/drive/My Drive/hackerthon1/hackerthon1.h5\n",
            "Epoch 9/9\n",
            "834307/834307 [==============================] - 550s 659us/step - loss: 0.1678 - accuracy: 0.9330 - val_loss: 0.3999 - val_accuracy: 0.8543\n",
            "\n",
            "Epoch 00009: loss improved from 0.17264 to 0.16781, saving model to /content/drive/My Drive/hackerthon1/hackerthon1.h5\n"
          ],
          "name": "stdout"
        },
        {
          "output_type": "execute_result",
          "data": {
            "text/plain": [
              "<keras.callbacks.callbacks.History at 0x7f8dad8fce10>"
            ]
          },
          "metadata": {
            "tags": []
          },
          "execution_count": 39
        }
      ]
    },
    {
      "cell_type": "code",
      "metadata": {
        "colab_type": "code",
        "id": "trpRiKjC8Uvv",
        "colab": {
          "base_uri": "https://localhost:8080/",
          "height": 1000
        },
        "outputId": "7c0fb157-89a2-4b6f-e0e1-a8bfece66b0e"
      },
      "source": [
        "from keras.utils import plot_model\n",
        "plot_model(new_model, to_file='new_model.png')"
      ],
      "execution_count": null,
      "outputs": [
        {
          "output_type": "execute_result",
          "data": {
            "image/png": "[encoded data removed]",
            "text/plain": [
              "<IPython.core.display.Image object>"
            ]
          },
          "metadata": {
            "tags": []
          },
          "execution_count": 40
        }
      ]
    },
    {
      "cell_type": "markdown",
      "metadata": {
        "id": "IsVF9ns64wiS",
        "colab_type": "text"
      },
      "source": [
        "# Prediction On Validation Data "
      ]
    },
    {
      "cell_type": "code",
      "metadata": {
        "id": "CkMEjetMpwjf",
        "colab_type": "code",
        "colab": {
          "base_uri": "https://localhost:8080/",
          "height": 54
        },
        "outputId": "410d386f-8687-4e48-858b-8c3d21bd7379"
      },
      "source": [
        "#Give Path to MPFolder's hackerthon1.h5 file\n",
        "from tensorflow import keras\n",
        "model = keras.models.load_model('/content/drive/My Drive/MPFolder/hackerthon1.h5')"
      ],
      "execution_count": null,
      "outputs": [
        {
          "output_type": "stream",
          "text": [
            "WARNING:tensorflow:Layer lstm_1 will not use cuDNN kernel since it doesn't meet the cuDNN kernel criteria. It will use generic GPU kernel as fallback when running on GPU\n"
          ],
          "name": "stdout"
        }
      ]
    },
    {
      "cell_type": "code",
      "metadata": {
        "id": "l6T0czxiq4II",
        "colab_type": "code",
        "colab": {
          "base_uri": "https://localhost:8080/",
          "height": 383
        },
        "outputId": "da937714-d7f5-46f9-f481-5d57efcdebde"
      },
      "source": [
        "#Give Path to Essential Folder's validate.tsv file\n",
        "import pandas as pd\n",
        "tmps = pd.read_csv('/content/drive/My Drive/Essential/validate.tsv',sep='\\t')\n",
        "tmps.head()"
      ],
      "execution_count": null,
      "outputs": [
        {
          "output_type": "execute_result",
          "data": {
            "text/html": [
              "<div>\n",
              "<style scoped>\n",
              "    .dataframe tbody tr th:only-of-type {\n",
              "        vertical-align: middle;\n",
              "    }\n",
              "\n",
              "    .dataframe tbody tr th {\n",
              "        vertical-align: top;\n",
              "    }\n",
              "\n",
              "    .dataframe thead th {\n",
              "        text-align: right;\n",
              "    }\n",
              "</style>\n",
              "<table border=\"1\" class=\"dataframe\">\n",
              "  <thead>\n",
              "    <tr style=\"text-align: right;\">\n",
              "      <th></th>\n",
              "      <th>Unnamed: 0</th>\n",
              "      <th>Unnamed: 0.1</th>\n",
              "      <th>Unnamed: 0.1.1</th>\n",
              "      <th>Unnamed: 0.1.1.1</th>\n",
              "      <th>author</th>\n",
              "      <th>clean_title</th>\n",
              "      <th>created_utc</th>\n",
              "      <th>domain</th>\n",
              "      <th>hasImage</th>\n",
              "      <th>id</th>\n",
              "      <th>image_url</th>\n",
              "      <th>linked_submission_id</th>\n",
              "      <th>num_comments</th>\n",
              "      <th>score</th>\n",
              "      <th>subreddit</th>\n",
              "      <th>title</th>\n",
              "      <th>upvote_ratio</th>\n",
              "      <th>2_way_label</th>\n",
              "      <th>3_way_label</th>\n",
              "      <th>6_way_label</th>\n",
              "    </tr>\n",
              "  </thead>\n",
              "  <tbody>\n",
              "    <tr>\n",
              "      <th>0</th>\n",
              "      <td>0</td>\n",
              "      <td>0</td>\n",
              "      <td>71235.0</td>\n",
              "      <td>316517.0</td>\n",
              "      <td>xprmntng</td>\n",
              "      <td>NaN</td>\n",
              "      <td>1.499964e+09</td>\n",
              "      <td>NaN</td>\n",
              "      <td>True</td>\n",
              "      <td>dk69gv8</td>\n",
              "      <td>https://i.imgur.com/snZdHrF.jpg</td>\n",
              "      <td>6n1oet</td>\n",
              "      <td>NaN</td>\n",
              "      <td>505</td>\n",
              "      <td>psbattle_artwork</td>\n",
              "      <td>NaN</td>\n",
              "      <td>NaN</td>\n",
              "      <td>0</td>\n",
              "      <td>2</td>\n",
              "      <td>4</td>\n",
              "    </tr>\n",
              "    <tr>\n",
              "      <th>1</th>\n",
              "      <td>1</td>\n",
              "      <td>1</td>\n",
              "      <td>NaN</td>\n",
              "      <td>NaN</td>\n",
              "      <td>singingdart7854</td>\n",
              "      <td>my xbox controller says hi</td>\n",
              "      <td>1.567436e+09</td>\n",
              "      <td>i.redd.it</td>\n",
              "      <td>True</td>\n",
              "      <td>cypw96</td>\n",
              "      <td>https://preview.redd.it/l0ga0tug17k31.jpg?widt...</td>\n",
              "      <td>NaN</td>\n",
              "      <td>4.0</td>\n",
              "      <td>25</td>\n",
              "      <td>mildlyinteresting</td>\n",
              "      <td>My Xbox controller says hi</td>\n",
              "      <td>0.72</td>\n",
              "      <td>1</td>\n",
              "      <td>0</td>\n",
              "      <td>0</td>\n",
              "    </tr>\n",
              "    <tr>\n",
              "      <th>2</th>\n",
              "      <td>2</td>\n",
              "      <td>2</td>\n",
              "      <td>NaN</td>\n",
              "      <td>NaN</td>\n",
              "      <td>mandal0re</td>\n",
              "      <td>new image from the mandalorian</td>\n",
              "      <td>1.567745e+09</td>\n",
              "      <td>i.imgur.com</td>\n",
              "      <td>True</td>\n",
              "      <td>d0bzlq</td>\n",
              "      <td>https://external-preview.redd.it/VX7bXDu9Gl8UZ...</td>\n",
              "      <td>NaN</td>\n",
              "      <td>5.0</td>\n",
              "      <td>21</td>\n",
              "      <td>photoshopbattles</td>\n",
              "      <td>PsBattle: New image from The Mandalorian</td>\n",
              "      <td>0.92</td>\n",
              "      <td>1</td>\n",
              "      <td>0</td>\n",
              "      <td>0</td>\n",
              "    </tr>\n",
              "    <tr>\n",
              "      <th>3</th>\n",
              "      <td>3</td>\n",
              "      <td>3</td>\n",
              "      <td>126554.0</td>\n",
              "      <td>582609.0</td>\n",
              "      <td>HE_WHO_DRUELS</td>\n",
              "      <td>say hello to my little friend</td>\n",
              "      <td>1.461468e+09</td>\n",
              "      <td>NaN</td>\n",
              "      <td>True</td>\n",
              "      <td>d2ezoob</td>\n",
              "      <td>http://i.imgur.com/F1Zbl3D.jpg</td>\n",
              "      <td>4g6bp9</td>\n",
              "      <td>NaN</td>\n",
              "      <td>10</td>\n",
              "      <td>psbattle_artwork</td>\n",
              "      <td>Say hello to my little friend!</td>\n",
              "      <td>NaN</td>\n",
              "      <td>0</td>\n",
              "      <td>2</td>\n",
              "      <td>4</td>\n",
              "    </tr>\n",
              "    <tr>\n",
              "      <th>4</th>\n",
              "      <td>4</td>\n",
              "      <td>4</td>\n",
              "      <td>228704.0</td>\n",
              "      <td>1014196.0</td>\n",
              "      <td>eNaRDe</td>\n",
              "      <td>watch your step little one</td>\n",
              "      <td>1.408047e+09</td>\n",
              "      <td>NaN</td>\n",
              "      <td>True</td>\n",
              "      <td>cjqctpw</td>\n",
              "      <td>http://i.imgur.com/KRyMjn1.jpg</td>\n",
              "      <td>2diyh3</td>\n",
              "      <td>NaN</td>\n",
              "      <td>1</td>\n",
              "      <td>psbattle_artwork</td>\n",
              "      <td>Watch your step little one</td>\n",
              "      <td>NaN</td>\n",
              "      <td>0</td>\n",
              "      <td>2</td>\n",
              "      <td>4</td>\n",
              "    </tr>\n",
              "  </tbody>\n",
              "</table>\n",
              "</div>"
            ],
            "text/plain": [
              "   Unnamed: 0  Unnamed: 0.1  ...  3_way_label  6_way_label\n",
              "0           0             0  ...            2            4\n",
              "1           1             1  ...            0            0\n",
              "2           2             2  ...            0            0\n",
              "3           3             3  ...            2            4\n",
              "4           4             4  ...            2            4\n",
              "\n",
              "[5 rows x 20 columns]"
            ]
          },
          "metadata": {
            "tags": []
          },
          "execution_count": 8
        }
      ]
    },
    {
      "cell_type": "code",
      "metadata": {
        "id": "omYU2lO5t5DT",
        "colab_type": "code",
        "colab": {
          "base_uri": "https://localhost:8080/",
          "height": 70
        },
        "outputId": "80c01ae9-b7ac-414d-b500-06abaa4d986c"
      },
      "source": [
        "df1.columns"
      ],
      "execution_count": null,
      "outputs": [
        {
          "output_type": "execute_result",
          "data": {
            "text/plain": [
              "Index(['clean_title', 'domain', 'hasImage', 'image_url', 'num_comments',\n",
              "       'score', '2_way_label'],\n",
              "      dtype='object')"
            ]
          },
          "metadata": {
            "tags": []
          },
          "execution_count": 12
        }
      ]
    },
    {
      "cell_type": "code",
      "metadata": {
        "id": "UTqcY7p2rObR",
        "colab_type": "code",
        "colab": {
          "base_uri": "https://localhost:8080/",
          "height": 486
        },
        "outputId": "96bb9e15-8bb8-45d3-bdb2-1ebcf8a3b594"
      },
      "source": [
        "tmps = tmps.loc[:,['clean_title', 'domain', 'hasImage', 'image_url', 'num_comments','score', '2_way_label']]\n",
        "tmps"
      ],
      "execution_count": null,
      "outputs": [
        {
          "output_type": "execute_result",
          "data": {
            "text/html": [
              "<div>\n",
              "<style scoped>\n",
              "    .dataframe tbody tr th:only-of-type {\n",
              "        vertical-align: middle;\n",
              "    }\n",
              "\n",
              "    .dataframe tbody tr th {\n",
              "        vertical-align: top;\n",
              "    }\n",
              "\n",
              "    .dataframe thead th {\n",
              "        text-align: right;\n",
              "    }\n",
              "</style>\n",
              "<table border=\"1\" class=\"dataframe\">\n",
              "  <thead>\n",
              "    <tr style=\"text-align: right;\">\n",
              "      <th></th>\n",
              "      <th>clean_title</th>\n",
              "      <th>domain</th>\n",
              "      <th>hasImage</th>\n",
              "      <th>image_url</th>\n",
              "      <th>num_comments</th>\n",
              "      <th>score</th>\n",
              "      <th>2_way_label</th>\n",
              "    </tr>\n",
              "  </thead>\n",
              "  <tbody>\n",
              "    <tr>\n",
              "      <th>0</th>\n",
              "      <td>NaN</td>\n",
              "      <td>NaN</td>\n",
              "      <td>True</td>\n",
              "      <td>https://i.imgur.com/snZdHrF.jpg</td>\n",
              "      <td>NaN</td>\n",
              "      <td>505</td>\n",
              "      <td>0</td>\n",
              "    </tr>\n",
              "    <tr>\n",
              "      <th>1</th>\n",
              "      <td>my xbox controller says hi</td>\n",
              "      <td>i.redd.it</td>\n",
              "      <td>True</td>\n",
              "      <td>https://preview.redd.it/l0ga0tug17k31.jpg?widt...</td>\n",
              "      <td>4.0</td>\n",
              "      <td>25</td>\n",
              "      <td>1</td>\n",
              "    </tr>\n",
              "    <tr>\n",
              "      <th>2</th>\n",
              "      <td>new image from the mandalorian</td>\n",
              "      <td>i.imgur.com</td>\n",
              "      <td>True</td>\n",
              "      <td>https://external-preview.redd.it/VX7bXDu9Gl8UZ...</td>\n",
              "      <td>5.0</td>\n",
              "      <td>21</td>\n",
              "      <td>1</td>\n",
              "    </tr>\n",
              "    <tr>\n",
              "      <th>3</th>\n",
              "      <td>say hello to my little friend</td>\n",
              "      <td>NaN</td>\n",
              "      <td>True</td>\n",
              "      <td>http://i.imgur.com/F1Zbl3D.jpg</td>\n",
              "      <td>NaN</td>\n",
              "      <td>10</td>\n",
              "      <td>0</td>\n",
              "    </tr>\n",
              "    <tr>\n",
              "      <th>4</th>\n",
              "      <td>watch your step little one</td>\n",
              "      <td>NaN</td>\n",
              "      <td>True</td>\n",
              "      <td>http://i.imgur.com/KRyMjn1.jpg</td>\n",
              "      <td>NaN</td>\n",
              "      <td>1</td>\n",
              "      <td>0</td>\n",
              "    </tr>\n",
              "    <tr>\n",
              "      <th>...</th>\n",
              "      <td>...</td>\n",
              "      <td>...</td>\n",
              "      <td>...</td>\n",
              "      <td>...</td>\n",
              "      <td>...</td>\n",
              "      <td>...</td>\n",
              "      <td>...</td>\n",
              "    </tr>\n",
              "    <tr>\n",
              "      <th>92439</th>\n",
              "      <td>nicaraguan bank sanctioned by us shuts down</td>\n",
              "      <td>dailyjournal.net</td>\n",
              "      <td>True</td>\n",
              "      <td>https://external-preview.redd.it/rRJn2A584GGhv...</td>\n",
              "      <td>0.0</td>\n",
              "      <td>2</td>\n",
              "      <td>1</td>\n",
              "    </tr>\n",
              "    <tr>\n",
              "      <th>92440</th>\n",
              "      <td>this column and emergency light</td>\n",
              "      <td>i.redd.it</td>\n",
              "      <td>True</td>\n",
              "      <td>https://preview.redd.it/be71j19dltoz.jpg?width...</td>\n",
              "      <td>0.0</td>\n",
              "      <td>7</td>\n",
              "      <td>0</td>\n",
              "    </tr>\n",
              "    <tr>\n",
              "      <th>92441</th>\n",
              "      <td>former royal marine selling medals to help fun...</td>\n",
              "      <td>theroyalmarinescharity.org.uk</td>\n",
              "      <td>False</td>\n",
              "      <td>NaN</td>\n",
              "      <td>0.0</td>\n",
              "      <td>5</td>\n",
              "      <td>1</td>\n",
              "    </tr>\n",
              "    <tr>\n",
              "      <th>92442</th>\n",
              "      <td>so proud</td>\n",
              "      <td>NaN</td>\n",
              "      <td>True</td>\n",
              "      <td>http://i.imgur.com/6OGdxDB.jpg</td>\n",
              "      <td>NaN</td>\n",
              "      <td>10</td>\n",
              "      <td>0</td>\n",
              "    </tr>\n",
              "    <tr>\n",
              "      <th>92443</th>\n",
              "      <td>i tried</td>\n",
              "      <td>NaN</td>\n",
              "      <td>True</td>\n",
              "      <td>http://i.imgur.com/tCkifEw.jpg</td>\n",
              "      <td>NaN</td>\n",
              "      <td>8</td>\n",
              "      <td>0</td>\n",
              "    </tr>\n",
              "  </tbody>\n",
              "</table>\n",
              "<p>92444 rows × 7 columns</p>\n",
              "</div>"
            ],
            "text/plain": [
              "                                             clean_title  ... 2_way_label\n",
              "0                                                    NaN  ...           0\n",
              "1                             my xbox controller says hi  ...           1\n",
              "2                         new image from the mandalorian  ...           1\n",
              "3                          say hello to my little friend  ...           0\n",
              "4                             watch your step little one  ...           0\n",
              "...                                                  ...  ...         ...\n",
              "92439        nicaraguan bank sanctioned by us shuts down  ...           1\n",
              "92440                    this column and emergency light  ...           0\n",
              "92441  former royal marine selling medals to help fun...  ...           1\n",
              "92442                                           so proud  ...           0\n",
              "92443                                            i tried  ...           0\n",
              "\n",
              "[92444 rows x 7 columns]"
            ]
          },
          "metadata": {
            "tags": []
          },
          "execution_count": 13
        }
      ]
    },
    {
      "cell_type": "code",
      "metadata": {
        "colab_type": "code",
        "id": "meISyrYhuv3N",
        "colab": {}
      },
      "source": [
        "tmps.iloc[:,:-1]=tmps.iloc[:,:-1].replace(to_replace = np.nan, value ='') "
      ],
      "execution_count": null,
      "outputs": []
    },
    {
      "cell_type": "code",
      "metadata": {
        "colab_type": "code",
        "id": "G_cm_Rfduv3S",
        "colab": {}
      },
      "source": [
        "tmps.iloc[:,-1]=tmps.iloc[:,-1].replace(to_replace = np.nan, value =0) "
      ],
      "execution_count": null,
      "outputs": []
    },
    {
      "cell_type": "code",
      "metadata": {
        "colab_type": "code",
        "id": "1HTftl9Auv3W",
        "colab": {
          "base_uri": "https://localhost:8080/",
          "height": 34
        },
        "outputId": "f6871ddb-1a50-45c0-f308-93388415893e"
      },
      "source": [
        "texts = []\n",
        "labels = []\n",
        "\n",
        "for i in range(len(list(tmps.clean_title))):\n",
        "    text = str(tmps['clean_title'][i])\n",
        "    texts.append(text)\n",
        "    labels.append(tmps['2_way_label'][i])\n",
        "    \n",
        "tokenizer = Tokenizer(num_words=MAX_NB_WORDS)\n",
        "tokenizer.fit_on_texts(texts)\n",
        "sequences = tokenizer.texts_to_sequences(texts)\n",
        "word_index = tokenizer.word_index\n",
        "\n",
        "print('Found %s unique tokens.' % len(word_index))"
      ],
      "execution_count": null,
      "outputs": [
        {
          "output_type": "stream",
          "text": [
            "Found 45787 unique tokens.\n"
          ],
          "name": "stdout"
        }
      ]
    },
    {
      "cell_type": "code",
      "metadata": {
        "colab_type": "code",
        "id": "isIc90Txuv3Y",
        "colab": {
          "base_uri": "https://localhost:8080/",
          "height": 52
        },
        "outputId": "e96d175f-8246-453e-cda9-8223c441e59a"
      },
      "source": [
        "# Pad input sequences\n",
        "datatmp = pad_sequences(sequences, maxlen=MAX_SEQUENCE_LENGTH)\n",
        "labels = to_categorical(np.asarray(labels,dtype='int32'),num_classes = 2)\n",
        "print('Shape of data tensor:', datatmp.shape)\n",
        "print('Shape of label tensor:', labels.shape)"
      ],
      "execution_count": null,
      "outputs": [
        {
          "output_type": "stream",
          "text": [
            "Shape of data tensor: (92444, 1000)\n",
            "Shape of label tensor: (92444, 2, 2)\n"
          ],
          "name": "stdout"
        }
      ]
    },
    {
      "cell_type": "code",
      "metadata": {
        "id": "_fgAMtuPp8QU",
        "colab_type": "code",
        "colab": {}
      },
      "source": [
        "pred = model.predict(datatmp)"
      ],
      "execution_count": null,
      "outputs": []
    },
    {
      "cell_type": "code",
      "metadata": {
        "id": "XYVW6IPLqL3P",
        "colab_type": "code",
        "colab": {
          "base_uri": "https://localhost:8080/",
          "height": 106
        },
        "outputId": "6a339b43-1228-421d-a2a2-041d509682fb"
      },
      "source": [
        "result = pd.DataFrame(data = (datatmp,pred))\n",
        "result"
      ],
      "execution_count": null,
      "outputs": [
        {
          "output_type": "execute_result",
          "data": {
            "text/html": [
              "<div>\n",
              "<style scoped>\n",
              "    .dataframe tbody tr th:only-of-type {\n",
              "        vertical-align: middle;\n",
              "    }\n",
              "\n",
              "    .dataframe tbody tr th {\n",
              "        vertical-align: top;\n",
              "    }\n",
              "\n",
              "    .dataframe thead th {\n",
              "        text-align: right;\n",
              "    }\n",
              "</style>\n",
              "<table border=\"1\" class=\"dataframe\">\n",
              "  <thead>\n",
              "    <tr style=\"text-align: right;\">\n",
              "      <th></th>\n",
              "      <th>0</th>\n",
              "    </tr>\n",
              "  </thead>\n",
              "  <tbody>\n",
              "    <tr>\n",
              "      <th>0</th>\n",
              "      <td>[[0, 0, 0, 0, 0, 0, 0, 0, 0, 0, 0, 0, 0, 0, 0,...</td>\n",
              "    </tr>\n",
              "    <tr>\n",
              "      <th>1</th>\n",
              "      <td>[[0.99667907, 0.003320982], [0.67368805, 0.326...</td>\n",
              "    </tr>\n",
              "  </tbody>\n",
              "</table>\n",
              "</div>"
            ],
            "text/plain": [
              "                                                   0\n",
              "0  [[0, 0, 0, 0, 0, 0, 0, 0, 0, 0, 0, 0, 0, 0, 0,...\n",
              "1  [[0.99667907, 0.003320982], [0.67368805, 0.326..."
            ]
          },
          "metadata": {
            "tags": []
          },
          "execution_count": 68
        }
      ]
    },
    {
      "cell_type": "code",
      "metadata": {
        "id": "qS6edndDwaPC",
        "colab_type": "code",
        "colab": {
          "base_uri": "https://localhost:8080/",
          "height": 34
        },
        "outputId": "5408d911-e9a0-450f-9fff-421eb6ff123f"
      },
      "source": [
        "dpred = pd.DataFrame(data = (pred))\n",
        "dpred\n",
        "dpred.columns = ['False','True']\n",
        "dpred.columns"
      ],
      "execution_count": null,
      "outputs": [
        {
          "output_type": "execute_result",
          "data": {
            "text/plain": [
              "Index(['False', 'True'], dtype='object')"
            ]
          },
          "metadata": {
            "tags": []
          },
          "execution_count": 69
        }
      ]
    },
    {
      "cell_type": "code",
      "metadata": {
        "id": "NjWf4Jg6wrSu",
        "colab_type": "code",
        "colab": {
          "base_uri": "https://localhost:8080/",
          "height": 402
        },
        "outputId": "308ef0e7-f75f-47b1-ef58-242a93e6048e"
      },
      "source": [
        "# dpred['Fake'] = dpred[dpred['False'] >= 0.7]['False']\n",
        "# dpred['Real'] = dpred[dpred['True'] >= 0.7]['True']\n",
        "# dpred"
      ],
      "execution_count": null,
      "outputs": [
        {
          "output_type": "execute_result",
          "data": {
            "text/html": [
              "<div>\n",
              "<style scoped>\n",
              "    .dataframe tbody tr th:only-of-type {\n",
              "        vertical-align: middle;\n",
              "    }\n",
              "\n",
              "    .dataframe tbody tr th {\n",
              "        vertical-align: top;\n",
              "    }\n",
              "\n",
              "    .dataframe thead th {\n",
              "        text-align: right;\n",
              "    }\n",
              "</style>\n",
              "<table border=\"1\" class=\"dataframe\">\n",
              "  <thead>\n",
              "    <tr style=\"text-align: right;\">\n",
              "      <th></th>\n",
              "      <th>False</th>\n",
              "      <th>True</th>\n",
              "      <th>Fake</th>\n",
              "      <th>Real</th>\n",
              "    </tr>\n",
              "  </thead>\n",
              "  <tbody>\n",
              "    <tr>\n",
              "      <th>0</th>\n",
              "      <td>0.996679</td>\n",
              "      <td>0.003321</td>\n",
              "      <td>0.996679</td>\n",
              "      <td>NaN</td>\n",
              "    </tr>\n",
              "    <tr>\n",
              "      <th>1</th>\n",
              "      <td>0.673688</td>\n",
              "      <td>0.326312</td>\n",
              "      <td>NaN</td>\n",
              "      <td>NaN</td>\n",
              "    </tr>\n",
              "    <tr>\n",
              "      <th>2</th>\n",
              "      <td>0.805141</td>\n",
              "      <td>0.194859</td>\n",
              "      <td>0.805141</td>\n",
              "      <td>NaN</td>\n",
              "    </tr>\n",
              "    <tr>\n",
              "      <th>3</th>\n",
              "      <td>0.192483</td>\n",
              "      <td>0.807517</td>\n",
              "      <td>NaN</td>\n",
              "      <td>0.807517</td>\n",
              "    </tr>\n",
              "    <tr>\n",
              "      <th>4</th>\n",
              "      <td>0.975551</td>\n",
              "      <td>0.024448</td>\n",
              "      <td>0.975551</td>\n",
              "      <td>NaN</td>\n",
              "    </tr>\n",
              "    <tr>\n",
              "      <th>...</th>\n",
              "      <td>...</td>\n",
              "      <td>...</td>\n",
              "      <td>...</td>\n",
              "      <td>...</td>\n",
              "    </tr>\n",
              "    <tr>\n",
              "      <th>92439</th>\n",
              "      <td>0.934787</td>\n",
              "      <td>0.065213</td>\n",
              "      <td>0.934787</td>\n",
              "      <td>NaN</td>\n",
              "    </tr>\n",
              "    <tr>\n",
              "      <th>92440</th>\n",
              "      <td>0.229644</td>\n",
              "      <td>0.770357</td>\n",
              "      <td>NaN</td>\n",
              "      <td>0.770357</td>\n",
              "    </tr>\n",
              "    <tr>\n",
              "      <th>92441</th>\n",
              "      <td>0.032652</td>\n",
              "      <td>0.967348</td>\n",
              "      <td>NaN</td>\n",
              "      <td>0.967348</td>\n",
              "    </tr>\n",
              "    <tr>\n",
              "      <th>92442</th>\n",
              "      <td>0.929973</td>\n",
              "      <td>0.070027</td>\n",
              "      <td>0.929973</td>\n",
              "      <td>NaN</td>\n",
              "    </tr>\n",
              "    <tr>\n",
              "      <th>92443</th>\n",
              "      <td>0.967987</td>\n",
              "      <td>0.032013</td>\n",
              "      <td>0.967987</td>\n",
              "      <td>NaN</td>\n",
              "    </tr>\n",
              "  </tbody>\n",
              "</table>\n",
              "<p>92444 rows × 4 columns</p>\n",
              "</div>"
            ],
            "text/plain": [
              "          False      True      Fake      Real\n",
              "0      0.996679  0.003321  0.996679       NaN\n",
              "1      0.673688  0.326312       NaN       NaN\n",
              "2      0.805141  0.194859  0.805141       NaN\n",
              "3      0.192483  0.807517       NaN  0.807517\n",
              "4      0.975551  0.024448  0.975551       NaN\n",
              "...         ...       ...       ...       ...\n",
              "92439  0.934787  0.065213  0.934787       NaN\n",
              "92440  0.229644  0.770357       NaN  0.770357\n",
              "92441  0.032652  0.967348       NaN  0.967348\n",
              "92442  0.929973  0.070027  0.929973       NaN\n",
              "92443  0.967987  0.032013  0.967987       NaN\n",
              "\n",
              "[92444 rows x 4 columns]"
            ]
          },
          "metadata": {
            "tags": []
          },
          "execution_count": 51
        }
      ]
    },
    {
      "cell_type": "code",
      "metadata": {
        "id": "6H3Ytfip00YN",
        "colab_type": "code",
        "colab": {
          "base_uri": "https://localhost:8080/",
          "height": 402
        },
        "outputId": "0a3f4db5-6510-44ad-b206-38baef8e6ffb"
      },
      "source": [
        "dpred['IsFake'] = dpred['False'] > 0.7\n",
        "dpred\n",
        "# dpred['Prediction'] = dpred['IsFake'].astype(int32)"
      ],
      "execution_count": null,
      "outputs": [
        {
          "output_type": "execute_result",
          "data": {
            "text/html": [
              "<div>\n",
              "<style scoped>\n",
              "    .dataframe tbody tr th:only-of-type {\n",
              "        vertical-align: middle;\n",
              "    }\n",
              "\n",
              "    .dataframe tbody tr th {\n",
              "        vertical-align: top;\n",
              "    }\n",
              "\n",
              "    .dataframe thead th {\n",
              "        text-align: right;\n",
              "    }\n",
              "</style>\n",
              "<table border=\"1\" class=\"dataframe\">\n",
              "  <thead>\n",
              "    <tr style=\"text-align: right;\">\n",
              "      <th></th>\n",
              "      <th>False</th>\n",
              "      <th>True</th>\n",
              "      <th>IsFake</th>\n",
              "    </tr>\n",
              "  </thead>\n",
              "  <tbody>\n",
              "    <tr>\n",
              "      <th>0</th>\n",
              "      <td>0.996679</td>\n",
              "      <td>0.003321</td>\n",
              "      <td>True</td>\n",
              "    </tr>\n",
              "    <tr>\n",
              "      <th>1</th>\n",
              "      <td>0.673688</td>\n",
              "      <td>0.326312</td>\n",
              "      <td>False</td>\n",
              "    </tr>\n",
              "    <tr>\n",
              "      <th>2</th>\n",
              "      <td>0.805141</td>\n",
              "      <td>0.194859</td>\n",
              "      <td>True</td>\n",
              "    </tr>\n",
              "    <tr>\n",
              "      <th>3</th>\n",
              "      <td>0.192483</td>\n",
              "      <td>0.807517</td>\n",
              "      <td>False</td>\n",
              "    </tr>\n",
              "    <tr>\n",
              "      <th>4</th>\n",
              "      <td>0.975551</td>\n",
              "      <td>0.024448</td>\n",
              "      <td>True</td>\n",
              "    </tr>\n",
              "    <tr>\n",
              "      <th>...</th>\n",
              "      <td>...</td>\n",
              "      <td>...</td>\n",
              "      <td>...</td>\n",
              "    </tr>\n",
              "    <tr>\n",
              "      <th>92439</th>\n",
              "      <td>0.934787</td>\n",
              "      <td>0.065213</td>\n",
              "      <td>True</td>\n",
              "    </tr>\n",
              "    <tr>\n",
              "      <th>92440</th>\n",
              "      <td>0.229644</td>\n",
              "      <td>0.770357</td>\n",
              "      <td>False</td>\n",
              "    </tr>\n",
              "    <tr>\n",
              "      <th>92441</th>\n",
              "      <td>0.032652</td>\n",
              "      <td>0.967348</td>\n",
              "      <td>False</td>\n",
              "    </tr>\n",
              "    <tr>\n",
              "      <th>92442</th>\n",
              "      <td>0.929973</td>\n",
              "      <td>0.070027</td>\n",
              "      <td>True</td>\n",
              "    </tr>\n",
              "    <tr>\n",
              "      <th>92443</th>\n",
              "      <td>0.967987</td>\n",
              "      <td>0.032013</td>\n",
              "      <td>True</td>\n",
              "    </tr>\n",
              "  </tbody>\n",
              "</table>\n",
              "<p>92444 rows × 3 columns</p>\n",
              "</div>"
            ],
            "text/plain": [
              "          False      True  IsFake\n",
              "0      0.996679  0.003321    True\n",
              "1      0.673688  0.326312   False\n",
              "2      0.805141  0.194859    True\n",
              "3      0.192483  0.807517   False\n",
              "4      0.975551  0.024448    True\n",
              "...         ...       ...     ...\n",
              "92439  0.934787  0.065213    True\n",
              "92440  0.229644  0.770357   False\n",
              "92441  0.032652  0.967348   False\n",
              "92442  0.929973  0.070027    True\n",
              "92443  0.967987  0.032013    True\n",
              "\n",
              "[92444 rows x 3 columns]"
            ]
          },
          "metadata": {
            "tags": []
          },
          "execution_count": 70
        }
      ]
    },
    {
      "cell_type": "markdown",
      "metadata": {
        "id": "PPh6bjWq2isq",
        "colab_type": "text"
      },
      "source": [
        "# Prediction On Test Date"
      ]
    },
    {
      "cell_type": "code",
      "metadata": {
        "id": "HCtn3DbM4aUv",
        "colab_type": "code",
        "colab": {}
      },
      "source": [
        ""
      ],
      "execution_count": null,
      "outputs": []
    },
    {
      "cell_type": "code",
      "metadata": {
        "colab_type": "code",
        "id": "EvTt8IsJ4a4s",
        "colab": {
          "base_uri": "https://localhost:8080/",
          "height": 54
        },
        "outputId": "410d386f-8687-4e48-858b-8c3d21bd7379"
      },
      "source": [
        "# from tensorflow import keras\n",
        "# model = keras.models.load_model('/content/drive/My Drive/MPFolder/hackerthon1.h5')"
      ],
      "execution_count": null,
      "outputs": [
        {
          "output_type": "stream",
          "text": [
            "WARNING:tensorflow:Layer lstm_1 will not use cuDNN kernel since it doesn't meet the cuDNN kernel criteria. It will use generic GPU kernel as fallback when running on GPU\n"
          ],
          "name": "stdout"
        }
      ]
    },
    {
      "cell_type": "code",
      "metadata": {
        "colab_type": "code",
        "id": "i5AzJPSu4a4v",
        "colab": {
          "base_uri": "https://localhost:8080/",
          "height": 484
        },
        "outputId": "759cd705-2bbc-4b21-c4f4-d3bf6f94e5e8"
      },
      "source": [
        "#Give Path to Essential Folder's test_public.tsv file\n",
        "import pandas as pd\n",
        "tmps = pd.read_csv('/content/drive/My Drive/Essential/test_public.tsv',sep='\\t')\n",
        "tmps.head()"
      ],
      "execution_count": null,
      "outputs": [
        {
          "output_type": "execute_result",
          "data": {
            "text/html": [
              "<div>\n",
              "<style scoped>\n",
              "    .dataframe tbody tr th:only-of-type {\n",
              "        vertical-align: middle;\n",
              "    }\n",
              "\n",
              "    .dataframe tbody tr th {\n",
              "        vertical-align: top;\n",
              "    }\n",
              "\n",
              "    .dataframe thead th {\n",
              "        text-align: right;\n",
              "    }\n",
              "</style>\n",
              "<table border=\"1\" class=\"dataframe\">\n",
              "  <thead>\n",
              "    <tr style=\"text-align: right;\">\n",
              "      <th></th>\n",
              "      <th>Unnamed: 0</th>\n",
              "      <th>Unnamed: 0.1</th>\n",
              "      <th>Unnamed: 0.1.1</th>\n",
              "      <th>Unnamed: 0.1.1.1</th>\n",
              "      <th>author</th>\n",
              "      <th>clean_title</th>\n",
              "      <th>created_utc</th>\n",
              "      <th>domain</th>\n",
              "      <th>hasImage</th>\n",
              "      <th>id</th>\n",
              "      <th>image_url</th>\n",
              "      <th>linked_submission_id</th>\n",
              "      <th>num_comments</th>\n",
              "      <th>score</th>\n",
              "      <th>subreddit</th>\n",
              "      <th>title</th>\n",
              "      <th>upvote_ratio</th>\n",
              "      <th>2_way_label</th>\n",
              "      <th>3_way_label</th>\n",
              "      <th>6_way_label</th>\n",
              "    </tr>\n",
              "  </thead>\n",
              "  <tbody>\n",
              "    <tr>\n",
              "      <th>0</th>\n",
              "      <td>0</td>\n",
              "      <td>0</td>\n",
              "      <td>NaN</td>\n",
              "      <td>NaN</td>\n",
              "      <td>buzzly6</td>\n",
              "      <td>virginia first lady criticized for handing cot...</td>\n",
              "      <td>1.551316e+09</td>\n",
              "      <td>philly.com</td>\n",
              "      <td>False</td>\n",
              "      <td>avkxum</td>\n",
              "      <td>NaN</td>\n",
              "      <td>NaN</td>\n",
              "      <td>2.0</td>\n",
              "      <td>16</td>\n",
              "      <td>nottheonion</td>\n",
              "      <td>Virginia first lady criticized for handing cot...</td>\n",
              "      <td>0.69</td>\n",
              "      <td>1</td>\n",
              "      <td>0</td>\n",
              "      <td>0</td>\n",
              "    </tr>\n",
              "    <tr>\n",
              "      <th>1</th>\n",
              "      <td>1</td>\n",
              "      <td>1</td>\n",
              "      <td>NaN</td>\n",
              "      <td>NaN</td>\n",
              "      <td>NaN</td>\n",
              "      <td>jason falconer reluctant hero stopped mall att...</td>\n",
              "      <td>1.474326e+09</td>\n",
              "      <td>cnn.it</td>\n",
              "      <td>False</td>\n",
              "      <td>53kdz3</td>\n",
              "      <td>NaN</td>\n",
              "      <td>NaN</td>\n",
              "      <td>0.0</td>\n",
              "      <td>7</td>\n",
              "      <td>upliftingnews</td>\n",
              "      <td>Jason Falconer: Reluctant hero stopped mall at...</td>\n",
              "      <td>0.77</td>\n",
              "      <td>1</td>\n",
              "      <td>0</td>\n",
              "      <td>0</td>\n",
              "    </tr>\n",
              "    <tr>\n",
              "      <th>2</th>\n",
              "      <td>2</td>\n",
              "      <td>2</td>\n",
              "      <td>75691.0</td>\n",
              "      <td>335711.0</td>\n",
              "      <td>myternity</td>\n",
              "      <td>NaN</td>\n",
              "      <td>1.497067e+09</td>\n",
              "      <td>NaN</td>\n",
              "      <td>True</td>\n",
              "      <td>diperbi</td>\n",
              "      <td>http://i.imgur.com/cSIuEVF.jpg</td>\n",
              "      <td>6gc83w</td>\n",
              "      <td>NaN</td>\n",
              "      <td>3</td>\n",
              "      <td>psbattle_artwork</td>\n",
              "      <td>NaN</td>\n",
              "      <td>NaN</td>\n",
              "      <td>0</td>\n",
              "      <td>2</td>\n",
              "      <td>4</td>\n",
              "    </tr>\n",
              "    <tr>\n",
              "      <th>3</th>\n",
              "      <td>3</td>\n",
              "      <td>3</td>\n",
              "      <td>NaN</td>\n",
              "      <td>NaN</td>\n",
              "      <td>NaN</td>\n",
              "      <td>woman bites camels testicles to save herself a...</td>\n",
              "      <td>1.569178e+09</td>\n",
              "      <td>wbrz.com</td>\n",
              "      <td>False</td>\n",
              "      <td>d7upss</td>\n",
              "      <td>NaN</td>\n",
              "      <td>NaN</td>\n",
              "      <td>3.0</td>\n",
              "      <td>7</td>\n",
              "      <td>nottheonion</td>\n",
              "      <td>Woman bites camel’s testicles to save herself ...</td>\n",
              "      <td>1.00</td>\n",
              "      <td>1</td>\n",
              "      <td>0</td>\n",
              "      <td>0</td>\n",
              "    </tr>\n",
              "    <tr>\n",
              "      <th>4</th>\n",
              "      <td>4</td>\n",
              "      <td>4</td>\n",
              "      <td>190207.0</td>\n",
              "      <td>862707.0</td>\n",
              "      <td>trustbytrust</td>\n",
              "      <td>stargazer</td>\n",
              "      <td>1.425139e+09</td>\n",
              "      <td>NaN</td>\n",
              "      <td>True</td>\n",
              "      <td>cozywbv</td>\n",
              "      <td>http://i.imgur.com/BruWKDi.jpg</td>\n",
              "      <td>2xct9d</td>\n",
              "      <td>NaN</td>\n",
              "      <td>3</td>\n",
              "      <td>psbattle_artwork</td>\n",
              "      <td>stargazer</td>\n",
              "      <td>NaN</td>\n",
              "      <td>0</td>\n",
              "      <td>2</td>\n",
              "      <td>4</td>\n",
              "    </tr>\n",
              "  </tbody>\n",
              "</table>\n",
              "</div>"
            ],
            "text/plain": [
              "   Unnamed: 0  Unnamed: 0.1  ...  3_way_label  6_way_label\n",
              "0           0             0  ...            0            0\n",
              "1           1             1  ...            0            0\n",
              "2           2             2  ...            2            4\n",
              "3           3             3  ...            0            0\n",
              "4           4             4  ...            2            4\n",
              "\n",
              "[5 rows x 20 columns]"
            ]
          },
          "metadata": {
            "tags": []
          },
          "execution_count": 176
        }
      ]
    },
    {
      "cell_type": "code",
      "metadata": {
        "colab_type": "code",
        "id": "YMH4NkKb4a4y",
        "colab": {
          "base_uri": "https://localhost:8080/",
          "height": 70
        },
        "outputId": "94457635-0571-4eaa-dd67-47c616e1a3e9"
      },
      "source": [
        "df1.columns"
      ],
      "execution_count": null,
      "outputs": [
        {
          "output_type": "execute_result",
          "data": {
            "text/plain": [
              "Index(['clean_title', 'domain', 'hasImage', 'image_url', 'num_comments',\n",
              "       'score', '2_way_label'],\n",
              "      dtype='object')"
            ]
          },
          "metadata": {
            "tags": []
          },
          "execution_count": 177
        }
      ]
    },
    {
      "cell_type": "code",
      "metadata": {
        "colab_type": "code",
        "id": "Wb4Hq-pP4a4z",
        "colab": {
          "base_uri": "https://localhost:8080/",
          "height": 502
        },
        "outputId": "b95decca-4b6b-428f-f5ba-0c2c8a544453"
      },
      "source": [
        "tmps = tmps.loc[:,['clean_title', 'domain', 'hasImage', 'image_url', 'num_comments','score', '2_way_label']]\n",
        "tmps"
      ],
      "execution_count": null,
      "outputs": [
        {
          "output_type": "execute_result",
          "data": {
            "text/html": [
              "<div>\n",
              "<style scoped>\n",
              "    .dataframe tbody tr th:only-of-type {\n",
              "        vertical-align: middle;\n",
              "    }\n",
              "\n",
              "    .dataframe tbody tr th {\n",
              "        vertical-align: top;\n",
              "    }\n",
              "\n",
              "    .dataframe thead th {\n",
              "        text-align: right;\n",
              "    }\n",
              "</style>\n",
              "<table border=\"1\" class=\"dataframe\">\n",
              "  <thead>\n",
              "    <tr style=\"text-align: right;\">\n",
              "      <th></th>\n",
              "      <th>clean_title</th>\n",
              "      <th>domain</th>\n",
              "      <th>hasImage</th>\n",
              "      <th>image_url</th>\n",
              "      <th>num_comments</th>\n",
              "      <th>score</th>\n",
              "      <th>2_way_label</th>\n",
              "    </tr>\n",
              "  </thead>\n",
              "  <tbody>\n",
              "    <tr>\n",
              "      <th>0</th>\n",
              "      <td>virginia first lady criticized for handing cot...</td>\n",
              "      <td>philly.com</td>\n",
              "      <td>False</td>\n",
              "      <td>NaN</td>\n",
              "      <td>2.0</td>\n",
              "      <td>16</td>\n",
              "      <td>1</td>\n",
              "    </tr>\n",
              "    <tr>\n",
              "      <th>1</th>\n",
              "      <td>jason falconer reluctant hero stopped mall att...</td>\n",
              "      <td>cnn.it</td>\n",
              "      <td>False</td>\n",
              "      <td>NaN</td>\n",
              "      <td>0.0</td>\n",
              "      <td>7</td>\n",
              "      <td>1</td>\n",
              "    </tr>\n",
              "    <tr>\n",
              "      <th>2</th>\n",
              "      <td>NaN</td>\n",
              "      <td>NaN</td>\n",
              "      <td>True</td>\n",
              "      <td>http://i.imgur.com/cSIuEVF.jpg</td>\n",
              "      <td>NaN</td>\n",
              "      <td>3</td>\n",
              "      <td>0</td>\n",
              "    </tr>\n",
              "    <tr>\n",
              "      <th>3</th>\n",
              "      <td>woman bites camels testicles to save herself a...</td>\n",
              "      <td>wbrz.com</td>\n",
              "      <td>False</td>\n",
              "      <td>NaN</td>\n",
              "      <td>3.0</td>\n",
              "      <td>7</td>\n",
              "      <td>1</td>\n",
              "    </tr>\n",
              "    <tr>\n",
              "      <th>4</th>\n",
              "      <td>stargazer</td>\n",
              "      <td>NaN</td>\n",
              "      <td>True</td>\n",
              "      <td>http://i.imgur.com/BruWKDi.jpg</td>\n",
              "      <td>NaN</td>\n",
              "      <td>3</td>\n",
              "      <td>0</td>\n",
              "    </tr>\n",
              "    <tr>\n",
              "      <th>...</th>\n",
              "      <td>...</td>\n",
              "      <td>...</td>\n",
              "      <td>...</td>\n",
              "      <td>...</td>\n",
              "      <td>...</td>\n",
              "      <td>...</td>\n",
              "      <td>...</td>\n",
              "    </tr>\n",
              "    <tr>\n",
              "      <th>92439</th>\n",
              "      <td>deep down he always wanted to be a ballet dancer</td>\n",
              "      <td>NaN</td>\n",
              "      <td>True</td>\n",
              "      <td>http://i.imgur.com/otCWbOt.jpg</td>\n",
              "      <td>NaN</td>\n",
              "      <td>141</td>\n",
              "      <td>0</td>\n",
              "    </tr>\n",
              "    <tr>\n",
              "      <th>92440</th>\n",
              "      <td>man surgically implants train ticket in hand p...</td>\n",
              "      <td>mobile.abc.net.au</td>\n",
              "      <td>False</td>\n",
              "      <td>NaN</td>\n",
              "      <td>1.0</td>\n",
              "      <td>2</td>\n",
              "      <td>1</td>\n",
              "    </tr>\n",
              "    <tr>\n",
              "      <th>92441</th>\n",
              "      <td>NaN</td>\n",
              "      <td>NaN</td>\n",
              "      <td>True</td>\n",
              "      <td>https://i.redd.it/zgdhtjritfx01%2ejpg</td>\n",
              "      <td>NaN</td>\n",
              "      <td>1</td>\n",
              "      <td>0</td>\n",
              "    </tr>\n",
              "    <tr>\n",
              "      <th>92442</th>\n",
              "      <td>walrus sinks russian navy boat in the arctic o...</td>\n",
              "      <td>cnn.com</td>\n",
              "      <td>False</td>\n",
              "      <td>NaN</td>\n",
              "      <td>1.0</td>\n",
              "      <td>2</td>\n",
              "      <td>1</td>\n",
              "    </tr>\n",
              "    <tr>\n",
              "      <th>92443</th>\n",
              "      <td>toddler miraculously survives story fall landi...</td>\n",
              "      <td>abc7chicago.com</td>\n",
              "      <td>True</td>\n",
              "      <td>https://external-preview.redd.it/v5mz1kqr7zVEu...</td>\n",
              "      <td>2.0</td>\n",
              "      <td>21</td>\n",
              "      <td>1</td>\n",
              "    </tr>\n",
              "  </tbody>\n",
              "</table>\n",
              "<p>92444 rows × 7 columns</p>\n",
              "</div>"
            ],
            "text/plain": [
              "                                             clean_title  ... 2_way_label\n",
              "0      virginia first lady criticized for handing cot...  ...           1\n",
              "1      jason falconer reluctant hero stopped mall att...  ...           1\n",
              "2                                                    NaN  ...           0\n",
              "3      woman bites camels testicles to save herself a...  ...           1\n",
              "4                                              stargazer  ...           0\n",
              "...                                                  ...  ...         ...\n",
              "92439   deep down he always wanted to be a ballet dancer  ...           0\n",
              "92440  man surgically implants train ticket in hand p...  ...           1\n",
              "92441                                                NaN  ...           0\n",
              "92442  walrus sinks russian navy boat in the arctic o...  ...           1\n",
              "92443  toddler miraculously survives story fall landi...  ...           1\n",
              "\n",
              "[92444 rows x 7 columns]"
            ]
          },
          "metadata": {
            "tags": []
          },
          "execution_count": 178
        }
      ]
    },
    {
      "cell_type": "code",
      "metadata": {
        "colab_type": "code",
        "id": "9aFup8EP4a41",
        "colab": {}
      },
      "source": [
        "tmps.iloc[:,:-1]=tmps.iloc[:,:-1].replace(to_replace = np.nan, value ='') "
      ],
      "execution_count": null,
      "outputs": []
    },
    {
      "cell_type": "code",
      "metadata": {
        "colab_type": "code",
        "id": "iSXu_HAV4a43",
        "colab": {}
      },
      "source": [
        "tmps.iloc[:,-1]=tmps.iloc[:,-1].replace(to_replace = np.nan, value =0) "
      ],
      "execution_count": null,
      "outputs": []
    },
    {
      "cell_type": "code",
      "metadata": {
        "colab_type": "code",
        "id": "6U2k3q1f4a44",
        "colab": {
          "base_uri": "https://localhost:8080/",
          "height": 34
        },
        "outputId": "508e3cc7-04e6-4a7b-8a41-a28c4f570b64"
      },
      "source": [
        "texts = []\n",
        "labels = []\n",
        "\n",
        "for i in range(len(list(tmps.clean_title))):\n",
        "    text = str(tmps['clean_title'][i])\n",
        "    texts.append(text)\n",
        "    labels.append(tmps['2_way_label'][i])\n",
        "    \n",
        "tokenizer = Tokenizer(num_words=MAX_NB_WORDS)\n",
        "tokenizer.fit_on_texts(texts)\n",
        "sequences = tokenizer.texts_to_sequences(texts)\n",
        "word_index = tokenizer.word_index\n",
        "\n",
        "print('Found %s unique tokens.' % len(word_index))"
      ],
      "execution_count": null,
      "outputs": [
        {
          "output_type": "stream",
          "text": [
            "Found 45462 unique tokens.\n"
          ],
          "name": "stdout"
        }
      ]
    },
    {
      "cell_type": "code",
      "metadata": {
        "colab_type": "code",
        "id": "kUgD4hzL4a46",
        "colab": {
          "base_uri": "https://localhost:8080/",
          "height": 52
        },
        "outputId": "d2ef2d89-de9f-4948-e594-26d654a69bf8"
      },
      "source": [
        "# Pad input sequences\n",
        "datatmp = pad_sequences(sequences, maxlen=MAX_SEQUENCE_LENGTH)\n",
        "labels = to_categorical(np.asarray(labels,dtype='int32'),num_classes = 2)\n",
        "print('Shape of data tensor:', datatmp.shape)\n",
        "print('Shape of label tensor:', labels.shape)"
      ],
      "execution_count": null,
      "outputs": [
        {
          "output_type": "stream",
          "text": [
            "Shape of data tensor: (92444, 1000)\n",
            "Shape of label tensor: (92444, 2)\n"
          ],
          "name": "stdout"
        }
      ]
    },
    {
      "cell_type": "code",
      "metadata": {
        "colab_type": "code",
        "id": "BdPt3C7w4a49",
        "colab": {}
      },
      "source": [
        "pred = model.predict(datatmp)"
      ],
      "execution_count": null,
      "outputs": []
    },
    {
      "cell_type": "code",
      "metadata": {
        "colab_type": "code",
        "id": "chJAESay4a4-",
        "colab": {
          "base_uri": "https://localhost:8080/",
          "height": 106
        },
        "outputId": "65d0131d-81c8-488c-ae24-2074d1d3ca55"
      },
      "source": [
        "result = pd.DataFrame(data = (datatmp,pred))\n",
        "result"
      ],
      "execution_count": null,
      "outputs": [
        {
          "output_type": "execute_result",
          "data": {
            "text/html": [
              "<div>\n",
              "<style scoped>\n",
              "    .dataframe tbody tr th:only-of-type {\n",
              "        vertical-align: middle;\n",
              "    }\n",
              "\n",
              "    .dataframe tbody tr th {\n",
              "        vertical-align: top;\n",
              "    }\n",
              "\n",
              "    .dataframe thead th {\n",
              "        text-align: right;\n",
              "    }\n",
              "</style>\n",
              "<table border=\"1\" class=\"dataframe\">\n",
              "  <thead>\n",
              "    <tr style=\"text-align: right;\">\n",
              "      <th></th>\n",
              "      <th>0</th>\n",
              "    </tr>\n",
              "  </thead>\n",
              "  <tbody>\n",
              "    <tr>\n",
              "      <th>0</th>\n",
              "      <td>[[0, 0, 0, 0, 0, 0, 0, 0, 0, 0, 0, 0, 0, 0, 0,...</td>\n",
              "    </tr>\n",
              "    <tr>\n",
              "      <th>1</th>\n",
              "      <td>[[0.77488804, 0.22511199], [0.99995923, 4.0763...</td>\n",
              "    </tr>\n",
              "  </tbody>\n",
              "</table>\n",
              "</div>"
            ],
            "text/plain": [
              "                                                   0\n",
              "0  [[0, 0, 0, 0, 0, 0, 0, 0, 0, 0, 0, 0, 0, 0, 0,...\n",
              "1  [[0.77488804, 0.22511199], [0.99995923, 4.0763..."
            ]
          },
          "metadata": {
            "tags": []
          },
          "execution_count": 184
        }
      ]
    },
    {
      "cell_type": "code",
      "metadata": {
        "colab_type": "code",
        "id": "jo_u-ooS4a5A",
        "colab": {
          "base_uri": "https://localhost:8080/",
          "height": 34
        },
        "outputId": "e847feb5-b8c2-4000-b896-3a5d3d20f1a7"
      },
      "source": [
        "dpred = pd.DataFrame(data = (pred))\n",
        "dpred\n",
        "dpred.columns = ['False','True']\n",
        "dpred.columns"
      ],
      "execution_count": null,
      "outputs": [
        {
          "output_type": "execute_result",
          "data": {
            "text/plain": [
              "Index(['False', 'True'], dtype='object')"
            ]
          },
          "metadata": {
            "tags": []
          },
          "execution_count": 185
        }
      ]
    },
    {
      "cell_type": "code",
      "metadata": {
        "colab_type": "code",
        "id": "uKhAc_uu4a5C",
        "colab": {}
      },
      "source": [
        "# dpred['Fake'] = dpred[dpred['False'] >= 0.7]['False']\n",
        "# dpred['Real'] = dpred[dpred['True'] >= 0.7]['True']\n",
        "# dpred"
      ],
      "execution_count": null,
      "outputs": []
    },
    {
      "cell_type": "code",
      "metadata": {
        "colab_type": "code",
        "id": "QhihnYQ-4a5D",
        "colab": {
          "base_uri": "https://localhost:8080/",
          "height": 402
        },
        "outputId": "f538e711-780f-499e-a646-768ecc7af5dc"
      },
      "source": [
        "dpred['IsFake'] = dpred['False'] > 0.7\n",
        "dpred\n",
        "# dpred['Prediction'] = dpred['IsFake'].astype(int32)"
      ],
      "execution_count": null,
      "outputs": [
        {
          "output_type": "execute_result",
          "data": {
            "text/html": [
              "<div>\n",
              "<style scoped>\n",
              "    .dataframe tbody tr th:only-of-type {\n",
              "        vertical-align: middle;\n",
              "    }\n",
              "\n",
              "    .dataframe tbody tr th {\n",
              "        vertical-align: top;\n",
              "    }\n",
              "\n",
              "    .dataframe thead th {\n",
              "        text-align: right;\n",
              "    }\n",
              "</style>\n",
              "<table border=\"1\" class=\"dataframe\">\n",
              "  <thead>\n",
              "    <tr style=\"text-align: right;\">\n",
              "      <th></th>\n",
              "      <th>False</th>\n",
              "      <th>True</th>\n",
              "      <th>IsFake</th>\n",
              "    </tr>\n",
              "  </thead>\n",
              "  <tbody>\n",
              "    <tr>\n",
              "      <th>0</th>\n",
              "      <td>0.774888</td>\n",
              "      <td>0.225112</td>\n",
              "      <td>True</td>\n",
              "    </tr>\n",
              "    <tr>\n",
              "      <th>1</th>\n",
              "      <td>0.999959</td>\n",
              "      <td>0.000041</td>\n",
              "      <td>True</td>\n",
              "    </tr>\n",
              "    <tr>\n",
              "      <th>2</th>\n",
              "      <td>0.996679</td>\n",
              "      <td>0.003321</td>\n",
              "      <td>True</td>\n",
              "    </tr>\n",
              "    <tr>\n",
              "      <th>3</th>\n",
              "      <td>0.997369</td>\n",
              "      <td>0.002631</td>\n",
              "      <td>True</td>\n",
              "    </tr>\n",
              "    <tr>\n",
              "      <th>4</th>\n",
              "      <td>0.999803</td>\n",
              "      <td>0.000197</td>\n",
              "      <td>True</td>\n",
              "    </tr>\n",
              "    <tr>\n",
              "      <th>...</th>\n",
              "      <td>...</td>\n",
              "      <td>...</td>\n",
              "      <td>...</td>\n",
              "    </tr>\n",
              "    <tr>\n",
              "      <th>92439</th>\n",
              "      <td>0.368682</td>\n",
              "      <td>0.631318</td>\n",
              "      <td>False</td>\n",
              "    </tr>\n",
              "    <tr>\n",
              "      <th>92440</th>\n",
              "      <td>0.102969</td>\n",
              "      <td>0.897031</td>\n",
              "      <td>False</td>\n",
              "    </tr>\n",
              "    <tr>\n",
              "      <th>92441</th>\n",
              "      <td>0.996679</td>\n",
              "      <td>0.003321</td>\n",
              "      <td>True</td>\n",
              "    </tr>\n",
              "    <tr>\n",
              "      <th>92442</th>\n",
              "      <td>0.012253</td>\n",
              "      <td>0.987746</td>\n",
              "      <td>False</td>\n",
              "    </tr>\n",
              "    <tr>\n",
              "      <th>92443</th>\n",
              "      <td>0.030084</td>\n",
              "      <td>0.969916</td>\n",
              "      <td>False</td>\n",
              "    </tr>\n",
              "  </tbody>\n",
              "</table>\n",
              "<p>92444 rows × 3 columns</p>\n",
              "</div>"
            ],
            "text/plain": [
              "          False      True  IsFake\n",
              "0      0.774888  0.225112    True\n",
              "1      0.999959  0.000041    True\n",
              "2      0.996679  0.003321    True\n",
              "3      0.997369  0.002631    True\n",
              "4      0.999803  0.000197    True\n",
              "...         ...       ...     ...\n",
              "92439  0.368682  0.631318   False\n",
              "92440  0.102969  0.897031   False\n",
              "92441  0.996679  0.003321    True\n",
              "92442  0.012253  0.987746   False\n",
              "92443  0.030084  0.969916   False\n",
              "\n",
              "[92444 rows x 3 columns]"
            ]
          },
          "metadata": {
            "tags": []
          },
          "execution_count": 187
        }
      ]
    },
    {
      "cell_type": "code",
      "metadata": {
        "id": "kBXzRdz_7Z9j",
        "colab_type": "code",
        "colab": {}
      },
      "source": [
        "ls = tmps['clean_title'][92443]"
      ],
      "execution_count": null,
      "outputs": []
    },
    {
      "cell_type": "code",
      "metadata": {
        "id": "NYp360PC7wmy",
        "colab_type": "code",
        "colab": {
          "base_uri": "https://localhost:8080/",
          "height": 35
        },
        "outputId": "9bb94dd1-9324-448c-99e2-550e7fc06e63"
      },
      "source": [
        "ls"
      ],
      "execution_count": null,
      "outputs": [
        {
          "output_type": "execute_result",
          "data": {
            "application/vnd.google.colaboratory.intrinsic+json": {
              "type": "string"
            },
            "text/plain": [
              "'toddler miraculously survives story fall landing on car'"
            ]
          },
          "metadata": {
            "tags": []
          },
          "execution_count": 189
        }
      ]
    },
    {
      "cell_type": "code",
      "metadata": {
        "id": "ilpmM6dhJMTY",
        "colab_type": "code",
        "colab": {
          "base_uri": "https://localhost:8080/",
          "height": 193
        },
        "outputId": "546e9fce-4877-4dd2-91ab-906b9494e651"
      },
      "source": [
        "dpred['Prediction'] = \"\"\n",
        "for i in range(len(dpred)):\n",
        "  if(dpred['IsFake'][i]==False):\n",
        "    dpred['Prediction'][i]=\"Real\"\n",
        "  else:\n",
        "    dpred['Prediction'][i]=\"Fake\""
      ],
      "execution_count": null,
      "outputs": [
        {
          "output_type": "stream",
          "text": [
            "/usr/local/lib/python3.6/dist-packages/ipykernel_launcher.py:6: SettingWithCopyWarning: \n",
            "A value is trying to be set on a copy of a slice from a DataFrame\n",
            "\n",
            "See the caveats in the documentation: https://pandas.pydata.org/pandas-docs/stable/user_guide/indexing.html#returning-a-view-versus-a-copy\n",
            "  \n",
            "/usr/local/lib/python3.6/dist-packages/ipykernel_launcher.py:4: SettingWithCopyWarning: \n",
            "A value is trying to be set on a copy of a slice from a DataFrame\n",
            "\n",
            "See the caveats in the documentation: https://pandas.pydata.org/pandas-docs/stable/user_guide/indexing.html#returning-a-view-versus-a-copy\n",
            "  after removing the cwd from sys.path.\n"
          ],
          "name": "stderr"
        }
      ]
    },
    {
      "cell_type": "code",
      "metadata": {
        "id": "9Fr6CRXyKBpW",
        "colab_type": "code",
        "colab": {
          "base_uri": "https://localhost:8080/",
          "height": 402
        },
        "outputId": "a7d823fb-6196-4527-9a72-daec3008feab"
      },
      "source": [
        "dpred"
      ],
      "execution_count": null,
      "outputs": [
        {
          "output_type": "execute_result",
          "data": {
            "text/html": [
              "<div>\n",
              "<style scoped>\n",
              "    .dataframe tbody tr th:only-of-type {\n",
              "        vertical-align: middle;\n",
              "    }\n",
              "\n",
              "    .dataframe tbody tr th {\n",
              "        vertical-align: top;\n",
              "    }\n",
              "\n",
              "    .dataframe thead th {\n",
              "        text-align: right;\n",
              "    }\n",
              "</style>\n",
              "<table border=\"1\" class=\"dataframe\">\n",
              "  <thead>\n",
              "    <tr style=\"text-align: right;\">\n",
              "      <th></th>\n",
              "      <th>False</th>\n",
              "      <th>True</th>\n",
              "      <th>IsFake</th>\n",
              "      <th>Prediction</th>\n",
              "    </tr>\n",
              "  </thead>\n",
              "  <tbody>\n",
              "    <tr>\n",
              "      <th>0</th>\n",
              "      <td>0.774888</td>\n",
              "      <td>0.225112</td>\n",
              "      <td>True</td>\n",
              "      <td>Fake</td>\n",
              "    </tr>\n",
              "    <tr>\n",
              "      <th>1</th>\n",
              "      <td>0.999959</td>\n",
              "      <td>0.000041</td>\n",
              "      <td>True</td>\n",
              "      <td>Fake</td>\n",
              "    </tr>\n",
              "    <tr>\n",
              "      <th>2</th>\n",
              "      <td>0.996679</td>\n",
              "      <td>0.003321</td>\n",
              "      <td>True</td>\n",
              "      <td>Fake</td>\n",
              "    </tr>\n",
              "    <tr>\n",
              "      <th>3</th>\n",
              "      <td>0.997369</td>\n",
              "      <td>0.002631</td>\n",
              "      <td>True</td>\n",
              "      <td>Fake</td>\n",
              "    </tr>\n",
              "    <tr>\n",
              "      <th>4</th>\n",
              "      <td>0.999803</td>\n",
              "      <td>0.000197</td>\n",
              "      <td>True</td>\n",
              "      <td>Fake</td>\n",
              "    </tr>\n",
              "    <tr>\n",
              "      <th>...</th>\n",
              "      <td>...</td>\n",
              "      <td>...</td>\n",
              "      <td>...</td>\n",
              "      <td>...</td>\n",
              "    </tr>\n",
              "    <tr>\n",
              "      <th>92439</th>\n",
              "      <td>0.368682</td>\n",
              "      <td>0.631318</td>\n",
              "      <td>False</td>\n",
              "      <td>Real</td>\n",
              "    </tr>\n",
              "    <tr>\n",
              "      <th>92440</th>\n",
              "      <td>0.102969</td>\n",
              "      <td>0.897031</td>\n",
              "      <td>False</td>\n",
              "      <td>Real</td>\n",
              "    </tr>\n",
              "    <tr>\n",
              "      <th>92441</th>\n",
              "      <td>0.996679</td>\n",
              "      <td>0.003321</td>\n",
              "      <td>True</td>\n",
              "      <td>Fake</td>\n",
              "    </tr>\n",
              "    <tr>\n",
              "      <th>92442</th>\n",
              "      <td>0.012253</td>\n",
              "      <td>0.987746</td>\n",
              "      <td>False</td>\n",
              "      <td>Real</td>\n",
              "    </tr>\n",
              "    <tr>\n",
              "      <th>92443</th>\n",
              "      <td>0.030084</td>\n",
              "      <td>0.969916</td>\n",
              "      <td>False</td>\n",
              "      <td>Real</td>\n",
              "    </tr>\n",
              "  </tbody>\n",
              "</table>\n",
              "<p>92444 rows × 4 columns</p>\n",
              "</div>"
            ],
            "text/plain": [
              "          False      True  IsFake Prediction\n",
              "0      0.774888  0.225112    True       Fake\n",
              "1      0.999959  0.000041    True       Fake\n",
              "2      0.996679  0.003321    True       Fake\n",
              "3      0.997369  0.002631    True       Fake\n",
              "4      0.999803  0.000197    True       Fake\n",
              "...         ...       ...     ...        ...\n",
              "92439  0.368682  0.631318   False       Real\n",
              "92440  0.102969  0.897031   False       Real\n",
              "92441  0.996679  0.003321    True       Fake\n",
              "92442  0.012253  0.987746   False       Real\n",
              "92443  0.030084  0.969916   False       Real\n",
              "\n",
              "[92444 rows x 4 columns]"
            ]
          },
          "metadata": {
            "tags": []
          },
          "execution_count": 191
        }
      ]
    },
    {
      "cell_type": "markdown",
      "metadata": {
        "id": "D4dOOoC974mA",
        "colab_type": "text"
      },
      "source": [
        "# Testing\n",
        "\n",
        "###We have tried hand picked data by various websites and add it to Testing csv file and get prediction of model. "
      ]
    },
    {
      "cell_type": "code",
      "metadata": {
        "colab_type": "code",
        "id": "LzinHnh69-Pb",
        "colab": {
          "base_uri": "https://localhost:8080/",
          "height": 54
        },
        "outputId": "410d386f-8687-4e48-858b-8c3d21bd7379"
      },
      "source": [
        "# from tensorflow import keras\n",
        "# model = keras.models.load_model('/content/drive/My Drive/hackerthon1/hackerthon1.h5')"
      ],
      "execution_count": null,
      "outputs": [
        {
          "output_type": "stream",
          "text": [
            "WARNING:tensorflow:Layer lstm_1 will not use cuDNN kernel since it doesn't meet the cuDNN kernel criteria. It will use generic GPU kernel as fallback when running on GPU\n"
          ],
          "name": "stdout"
        }
      ]
    },
    {
      "cell_type": "code",
      "metadata": {
        "colab_type": "code",
        "id": "6T4-p2yS9-Pe",
        "colab": {
          "base_uri": "https://localhost:8080/",
          "height": 77
        },
        "outputId": "649d872d-81e0-4c59-f4dc-c9d8dba63bb4"
      },
      "source": [
        "#Give Path to Essential Folder's Testtttting - Testtttting.csv file\n",
        "import pandas as pd\n",
        "tmps = pd.read_csv('/content/drive/My Drive/Essential/Testtttting - Testtttting.csv',sep=',')\n",
        "tmps.head()"
      ],
      "execution_count": null,
      "outputs": [
        {
          "output_type": "execute_result",
          "data": {
            "text/html": [
              "<div>\n",
              "<style scoped>\n",
              "    .dataframe tbody tr th:only-of-type {\n",
              "        vertical-align: middle;\n",
              "    }\n",
              "\n",
              "    .dataframe tbody tr th {\n",
              "        vertical-align: top;\n",
              "    }\n",
              "\n",
              "    .dataframe thead th {\n",
              "        text-align: right;\n",
              "    }\n",
              "</style>\n",
              "<table border=\"1\" class=\"dataframe\">\n",
              "  <thead>\n",
              "    <tr style=\"text-align: right;\">\n",
              "      <th></th>\n",
              "      <th>clean_title</th>\n",
              "      <th>domain</th>\n",
              "      <th>hasImage</th>\n",
              "      <th>image_url</th>\n",
              "      <th>num_comments</th>\n",
              "      <th>score</th>\n",
              "    </tr>\n",
              "  </thead>\n",
              "  <tbody>\n",
              "    <tr>\n",
              "      <th>0</th>\n",
              "      <td>India has second largest population in the world</td>\n",
              "      <td>https://www.worldatlas.com/</td>\n",
              "      <td>True</td>\n",
              "      <td>https://srcnaut.com/cdn-cgi/image/f=auto,w=960...</td>\n",
              "      <td>500</td>\n",
              "      <td>700</td>\n",
              "    </tr>\n",
              "  </tbody>\n",
              "</table>\n",
              "</div>"
            ],
            "text/plain": [
              "                                        clean_title  ... score\n",
              "0  India has second largest population in the world  ...   700\n",
              "\n",
              "[1 rows x 6 columns]"
            ]
          },
          "metadata": {
            "tags": []
          },
          "execution_count": 121
        }
      ]
    },
    {
      "cell_type": "code",
      "metadata": {
        "id": "3T_1UayzDtA-",
        "colab_type": "code",
        "colab": {}
      },
      "source": [
        "tmps = {\n",
        "    'clean_title' : [\"President-elect Donald J. Trump takes the oath of office as the 45th President of the United States in Washington, Jan. 20, 2017.\"],\n",
        "    'domain': [\"https://abcnews.go.com/\"],\n",
        "    'hasImage': [\"TRUE\"],\n",
        "    'image_url': [\"https://s.abcnews.com/images/Politics/GTY-donald-trump-oath-1-jt-170120_16x9_992.jpg\"],\n",
        "    'num_comments': [19],\n",
        "    'score' : [100],\n",
        "  }\n",
        "tmps = pd.DataFrame(data=tmps)"
      ],
      "execution_count": null,
      "outputs": []
    },
    {
      "cell_type": "code",
      "metadata": {
        "id": "I8_FUvBeFr92",
        "colab_type": "code",
        "colab": {
          "base_uri": "https://localhost:8080/",
          "height": 77
        },
        "outputId": "7dbc3b69-894c-4626-b3b9-c444a1f59bbf"
      },
      "source": [
        "tmps"
      ],
      "execution_count": null,
      "outputs": [
        {
          "output_type": "execute_result",
          "data": {
            "text/html": [
              "<div>\n",
              "<style scoped>\n",
              "    .dataframe tbody tr th:only-of-type {\n",
              "        vertical-align: middle;\n",
              "    }\n",
              "\n",
              "    .dataframe tbody tr th {\n",
              "        vertical-align: top;\n",
              "    }\n",
              "\n",
              "    .dataframe thead th {\n",
              "        text-align: right;\n",
              "    }\n",
              "</style>\n",
              "<table border=\"1\" class=\"dataframe\">\n",
              "  <thead>\n",
              "    <tr style=\"text-align: right;\">\n",
              "      <th></th>\n",
              "      <th>clean_title</th>\n",
              "      <th>domain</th>\n",
              "      <th>hasImage</th>\n",
              "      <th>image_url</th>\n",
              "      <th>num_comments</th>\n",
              "      <th>score</th>\n",
              "    </tr>\n",
              "  </thead>\n",
              "  <tbody>\n",
              "    <tr>\n",
              "      <th>0</th>\n",
              "      <td>President-elect Donald J. Trump takes the oath...</td>\n",
              "      <td>https://abcnews.go.com/</td>\n",
              "      <td>TRUE</td>\n",
              "      <td>https://s.abcnews.com/images/Politics/GTY-dona...</td>\n",
              "      <td>19</td>\n",
              "      <td>100</td>\n",
              "    </tr>\n",
              "  </tbody>\n",
              "</table>\n",
              "</div>"
            ],
            "text/plain": [
              "                                         clean_title  ... score\n",
              "0  President-elect Donald J. Trump takes the oath...  ...   100\n",
              "\n",
              "[1 rows x 6 columns]"
            ]
          },
          "metadata": {
            "tags": []
          },
          "execution_count": 150
        }
      ]
    },
    {
      "cell_type": "code",
      "metadata": {
        "colab_type": "code",
        "id": "F3nstAs59-Pg",
        "colab": {
          "base_uri": "https://localhost:8080/",
          "height": 70
        },
        "outputId": "bb4ad9c4-4303-4297-e091-acf8507142b8"
      },
      "source": [
        "df1.columns"
      ],
      "execution_count": null,
      "outputs": [
        {
          "output_type": "execute_result",
          "data": {
            "text/plain": [
              "Index(['clean_title', 'domain', 'hasImage', 'image_url', 'num_comments',\n",
              "       'score', '2_way_label'],\n",
              "      dtype='object')"
            ]
          },
          "metadata": {
            "tags": []
          },
          "execution_count": 151
        }
      ]
    },
    {
      "cell_type": "code",
      "metadata": {
        "colab_type": "code",
        "id": "1tOCCypI9-Ph",
        "colab": {}
      },
      "source": [
        "# tmps = tmps.loc[:,['clean_title', 'domain', 'hasImage', 'image_url', 'num_comments','score', '2_way_label']]\n",
        "# tmps"
      ],
      "execution_count": null,
      "outputs": []
    },
    {
      "cell_type": "code",
      "metadata": {
        "colab_type": "code",
        "id": "Jithxjfz9-Pj",
        "colab": {}
      },
      "source": [
        "tmps.iloc[:,:-1]=tmps.iloc[:,:-1].replace(to_replace = np.nan, value ='') "
      ],
      "execution_count": null,
      "outputs": []
    },
    {
      "cell_type": "code",
      "metadata": {
        "colab_type": "code",
        "id": "IubNIt1z9-Pk",
        "colab": {}
      },
      "source": [
        "tmps.iloc[:,-1]=tmps.iloc[:,-1].replace(to_replace = np.nan, value =0) "
      ],
      "execution_count": null,
      "outputs": []
    },
    {
      "cell_type": "code",
      "metadata": {
        "colab_type": "code",
        "id": "ibU4_MZL9-Pn",
        "colab": {
          "base_uri": "https://localhost:8080/",
          "height": 34
        },
        "outputId": "0d506b8e-251f-4e89-877a-12548ed53bf6"
      },
      "source": [
        "texts = []\n",
        "labels = []\n",
        "\n",
        "for i in range(len(list(tmps.clean_title))):\n",
        "    text = str(tmps['clean_title'][i])\n",
        "    texts.append(text)\n",
        "    # labels.append(tmps['2_way_label'][i])\n",
        "    \n",
        "tokenizer = Tokenizer(num_words=MAX_NB_WORDS)\n",
        "tokenizer.fit_on_texts(texts)\n",
        "sequences = tokenizer.texts_to_sequences(texts)\n",
        "word_index = tokenizer.word_index\n",
        "\n",
        "print('Found %s unique tokens.' % len(word_index))"
      ],
      "execution_count": null,
      "outputs": [
        {
          "output_type": "stream",
          "text": [
            "Found 19 unique tokens.\n"
          ],
          "name": "stdout"
        }
      ]
    },
    {
      "cell_type": "code",
      "metadata": {
        "colab_type": "code",
        "id": "JLe1gs439-Pp",
        "colab": {
          "base_uri": "https://localhost:8080/",
          "height": 52
        },
        "outputId": "fc1bc401-e267-4b9a-acd3-ce17a15768c3"
      },
      "source": [
        "# Pad input sequences\n",
        "datatmp = pad_sequences(sequences, maxlen=MAX_SEQUENCE_LENGTH)\n",
        "labels = to_categorical(np.asarray(labels,dtype='int32'),num_classes = 2)\n",
        "print('Shape of data tensor:', datatmp.shape)\n",
        "print('Shape of label tensor:', labels.shape)"
      ],
      "execution_count": null,
      "outputs": [
        {
          "output_type": "stream",
          "text": [
            "Shape of data tensor: (1, 1000)\n",
            "Shape of label tensor: (0, 2)\n"
          ],
          "name": "stdout"
        }
      ]
    },
    {
      "cell_type": "code",
      "metadata": {
        "colab_type": "code",
        "id": "btr34q-E9-Pq",
        "colab": {}
      },
      "source": [
        "pred = model.predict(datatmp)"
      ],
      "execution_count": null,
      "outputs": []
    },
    {
      "cell_type": "code",
      "metadata": {
        "colab_type": "code",
        "id": "o4hB_REN9-Ps",
        "colab": {
          "base_uri": "https://localhost:8080/",
          "height": 106
        },
        "outputId": "f450cb19-8f5d-4f7c-8a18-b774b4aef9cb"
      },
      "source": [
        "result = pd.DataFrame(data = (datatmp,pred))\n",
        "result"
      ],
      "execution_count": null,
      "outputs": [
        {
          "output_type": "execute_result",
          "data": {
            "text/html": [
              "<div>\n",
              "<style scoped>\n",
              "    .dataframe tbody tr th:only-of-type {\n",
              "        vertical-align: middle;\n",
              "    }\n",
              "\n",
              "    .dataframe tbody tr th {\n",
              "        vertical-align: top;\n",
              "    }\n",
              "\n",
              "    .dataframe thead th {\n",
              "        text-align: right;\n",
              "    }\n",
              "</style>\n",
              "<table border=\"1\" class=\"dataframe\">\n",
              "  <thead>\n",
              "    <tr style=\"text-align: right;\">\n",
              "      <th></th>\n",
              "      <th>0</th>\n",
              "    </tr>\n",
              "  </thead>\n",
              "  <tbody>\n",
              "    <tr>\n",
              "      <th>0</th>\n",
              "      <td>[[0, 0, 0, 0, 0, 0, 0, 0, 0, 0, 0, 0, 0, 0, 0,...</td>\n",
              "    </tr>\n",
              "    <tr>\n",
              "      <th>1</th>\n",
              "      <td>[[0.49672833, 0.50327164]]</td>\n",
              "    </tr>\n",
              "  </tbody>\n",
              "</table>\n",
              "</div>"
            ],
            "text/plain": [
              "                                                   0\n",
              "0  [[0, 0, 0, 0, 0, 0, 0, 0, 0, 0, 0, 0, 0, 0, 0,...\n",
              "1                         [[0.49672833, 0.50327164]]"
            ]
          },
          "metadata": {
            "tags": []
          },
          "execution_count": 158
        }
      ]
    },
    {
      "cell_type": "code",
      "metadata": {
        "colab_type": "code",
        "id": "uqcpggzX9-Pu",
        "colab": {
          "base_uri": "https://localhost:8080/",
          "height": 34
        },
        "outputId": "a869bddc-e88c-4f1c-d7c3-3873b52a8675"
      },
      "source": [
        "dpred = pd.DataFrame(data = (pred))\n",
        "dpred\n",
        "dpred.columns = ['False','True']\n",
        "dpred.columns"
      ],
      "execution_count": null,
      "outputs": [
        {
          "output_type": "execute_result",
          "data": {
            "text/plain": [
              "Index(['False', 'True'], dtype='object')"
            ]
          },
          "metadata": {
            "tags": []
          },
          "execution_count": 159
        }
      ]
    },
    {
      "cell_type": "code",
      "metadata": {
        "colab_type": "code",
        "id": "zglrSnFI9-Px",
        "colab": {
          "base_uri": "https://localhost:8080/",
          "height": 105
        },
        "outputId": "2f9a6bbc-7f5c-4840-e1e5-3d61ae3c63a1"
      },
      "source": [
        "dpred['IsFake'] = dpred['False'] > 0.7\n",
        "# dpred.columns = ['False','True','IsFake','Prediction']\n",
        "dpred['Prediction'] = \"\"\n",
        "for i in range(len(dpred)):\n",
        "  if(dpred['IsFake'][i]==False):\n",
        "    dpred['Prediction'][i]=\"Real\"\n",
        "  else:\n",
        "    dpred['Prediction'][i]=\"Fake\"\n",
        "# dpred['Prediction'] = dpred['IsFake'].astype(int32)"
      ],
      "execution_count": null,
      "outputs": [
        {
          "output_type": "stream",
          "text": [
            "/usr/local/lib/python3.6/dist-packages/ipykernel_launcher.py:6: SettingWithCopyWarning: \n",
            "A value is trying to be set on a copy of a slice from a DataFrame\n",
            "\n",
            "See the caveats in the documentation: https://pandas.pydata.org/pandas-docs/stable/user_guide/indexing.html#returning-a-view-versus-a-copy\n",
            "  \n"
          ],
          "name": "stderr"
        }
      ]
    },
    {
      "cell_type": "code",
      "metadata": {
        "id": "d2h0iSq_JCr3",
        "colab_type": "code",
        "colab": {
          "base_uri": "https://localhost:8080/",
          "height": 77
        },
        "outputId": "5fe13198-31b5-4a70-9c02-f8d9769ab049"
      },
      "source": [
        "dpred"
      ],
      "execution_count": null,
      "outputs": [
        {
          "output_type": "execute_result",
          "data": {
            "text/html": [
              "<div>\n",
              "<style scoped>\n",
              "    .dataframe tbody tr th:only-of-type {\n",
              "        vertical-align: middle;\n",
              "    }\n",
              "\n",
              "    .dataframe tbody tr th {\n",
              "        vertical-align: top;\n",
              "    }\n",
              "\n",
              "    .dataframe thead th {\n",
              "        text-align: right;\n",
              "    }\n",
              "</style>\n",
              "<table border=\"1\" class=\"dataframe\">\n",
              "  <thead>\n",
              "    <tr style=\"text-align: right;\">\n",
              "      <th></th>\n",
              "      <th>False</th>\n",
              "      <th>True</th>\n",
              "      <th>IsFake</th>\n",
              "      <th>Prediction</th>\n",
              "    </tr>\n",
              "  </thead>\n",
              "  <tbody>\n",
              "    <tr>\n",
              "      <th>0</th>\n",
              "      <td>0.496728</td>\n",
              "      <td>0.503272</td>\n",
              "      <td>False</td>\n",
              "      <td>Real</td>\n",
              "    </tr>\n",
              "  </tbody>\n",
              "</table>\n",
              "</div>"
            ],
            "text/plain": [
              "      False      True  IsFake Prediction\n",
              "0  0.496728  0.503272   False       Real"
            ]
          },
          "metadata": {
            "tags": []
          },
          "execution_count": 175
        }
      ]
    }
  ]
}